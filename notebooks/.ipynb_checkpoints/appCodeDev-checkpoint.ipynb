{
 "cells": [
  {
   "cell_type": "code",
   "execution_count": 5,
   "metadata": {},
   "outputs": [
    {
     "name": "stdout",
     "output_type": "stream",
     "text": [
      "The autoreload extension is already loaded. To reload it, use:\n",
      "  %reload_ext autoreload\n"
     ]
    }
   ],
   "source": [
    "%load_ext autoreload\n",
    "%autoreload 2\n",
    "import sys\n",
    "sys.path.append(\"../code/\")\n",
    "import networkx as nx\n",
    "import pandas as pd\n",
    "from graphUtils import * #EntityMatcher, makeGraphFromSpacy, from_nx, getFirstOrderGraph, getSecondOrderSubgraph\n",
    "from pyvis.network import Network"
   ]
  },
  {
   "cell_type": "code",
   "execution_count": 29,
   "metadata": {},
   "outputs": [],
   "source": [
    "def visualizeGraph(nxGraph, save = False, size = ['500px','500px']):\n",
    "    \"\"\" Converts from networkx to a pyvis Network. \n",
    "    \"\"\"\n",
    "    subGViz = Network(size[0], size[1])\n",
    "    from_nx(subGViz,nxGraph)\n",
    "    \n",
    "    if save:\n",
    "        subGViz.save_graph(save)\n",
    "   else:\n",
    "        subGViz.write_html('graph.html')\n",
    "        #subGViz.show('subGViz.html')\n",
    "    return subGViz"
   ]
  },
  {
   "cell_type": "code",
   "execution_count": null,
   "metadata": {},
   "outputs": [],
   "source": []
  },
  {
   "cell_type": "code",
   "execution_count": 30,
   "metadata": {},
   "outputs": [],
   "source": [
    "fullMeuller = nx.read_gpickle(\"../data/fullMeullerGraph.gpickle\")"
   ]
  },
  {
   "cell_type": "code",
   "execution_count": 31,
   "metadata": {},
   "outputs": [],
   "source": [
    "entityList = [n for n in fullMeuller.nodes if not n.startswith('par')]"
   ]
  },
  {
   "cell_type": "code",
   "execution_count": 32,
   "metadata": {},
   "outputs": [
    {
     "name": "stdout",
     "output_type": "stream",
     "text": [
      "Nodes: 91\n",
      "Edges: 131\n",
      "Self Loops: 0\n",
      "James Corney\n"
     ]
    }
   ],
   "source": [
    "entitySelect = entityList[100]\n",
    "subG = getSecondOrderSubgraph(fullMeuller,entitySelect)\n",
    "print(entitySelect)"
   ]
  },
  {
   "cell_type": "code",
   "execution_count": 33,
   "metadata": {},
   "outputs": [],
   "source": [
    "nodes = subG.nodes()"
   ]
  },
  {
   "cell_type": "code",
   "execution_count": 34,
   "metadata": {},
   "outputs": [
    {
     "data": {
      "text/plain": [
       "True"
      ]
     },
     "execution_count": 34,
     "metadata": {},
     "output_type": "execute_result"
    }
   ],
   "source": [
    "aNode = subG.node['par_564']\n",
    "'text' in aNode"
   ]
  },
  {
   "cell_type": "code",
   "execution_count": 35,
   "metadata": {},
   "outputs": [],
   "source": [
    "def build_trimmed_subgraph(fullGraph, entity, n = 100000):\n",
    "    \"\"\" \n",
    "    Takes an nx graph and a node name\n",
    "    gets second order subgraph \n",
    "    and trims based on pagerank. \n",
    "    \"\"\"\n",
    "    subG = getSecondOrderSubgraph(fullGraph,entity)\n",
    "    \n",
    "    closeness = nx.algorithms.pagerank(subG)\n",
    "    top_n_closeness = pd.DataFrame([closeness]).T.sort_values(0, ascending=False).head(n).reset_index()\n",
    "    \n",
    "    limited_sub_g = subG.subgraph(list(top_n_closeness['index']) + [entity])\n",
    "    \n",
    "    return limited_sub_g"
   ]
  },
  {
   "cell_type": "code",
   "execution_count": 36,
   "metadata": {},
   "outputs": [
    {
     "name": "stdout",
     "output_type": "stream",
     "text": [
      "Nodes: 91\n",
      "Edges: 131\n",
      "Self Loops: 0\n"
     ]
    }
   ],
   "source": [
    "limited_sub_g = build_trimmed_subgraph(fullMeuller,entitySelect,n=10)\n",
    "subGViz = visualizeGraph(limited_sub_g)"
   ]
  },
  {
   "cell_type": "code",
   "execution_count": 41,
   "metadata": {},
   "outputs": [
    {
     "data": {
      "text/plain": [
       "'<html>\\n<head>\\n<link rel=\"stylesheet\" href=\"https://cdnjs.cloudflare.com/ajax/libs/vis/4.16.1/vis.css\" type=\"text/css\" />\\n<script type=\"text/javascript\" src=\"https://cdnjs.cloudflare.com/ajax/libs/vis/4.16.1/vis-network.min.js\"> </script>\\n\\n<!-- <link rel=\"stylesheet\" href=\"../node_modules/vis/dist/vis.min.css\" type=\"text/css\" />\\n<script type=\"text/javascript\" src=\"../node_modules/vis/dist/vis.js\"> </script>-->\\n\\n<style type=\"text/css\">\\n\\n        #mynetwork {\\n            width: 500px;\\n            height: 500px;\\n            background-color: #ffffff;\\n            border: 1px solid lightgray;\\n            position: relative;\\n            float: left;\\n        }\\n\\n        \\n\\n        \\n\\n        \\n        /* position absolute is important and the container has to be relative or absolute as well. */\\n\\t    div.popup {\\n            position:absolute;\\n            top:0px;\\n            left:0px;\\n            display:none;\\n            background-color:#f5f4ed;\\n            -moz-border-radius: 3px;\\n            -webkit-border-radius: 3px;\\n            border-radius: 3px;\\n            border: 1px solid #808074;\\n            box-shadow: 3px 3px 10px rgba(0, 0, 0, 0.2);\\n\\t    }\\n\\n\\t    /* hide the original tooltip */\\n\\t    .vis-network-tooltip {\\n\\t      display:none;\\n\\t    }\\n        \\n</style>\\n\\n</head>\\n\\n<body>\\n<div id = \"mynetwork\"></div>\\n\\n\\n<script type=\"text/javascript\">\\n\\n    // initialize global variables.\\n    var edges;\\n    var nodes;\\n    var network; \\n    var container;\\n    var options, data;\\n\\n    \\n    // This method is responsible for drawing the graph, returns the drawn network\\n    function drawGraph() {\\n        var container = document.getElementById(\\'mynetwork\\');\\n        \\n        \\n\\n        // parsing and collecting nodes and edges from the python\\n        nodes = new vis.DataSet([{\"color\": \"grey\", \"id\": \"par_648\", \"label\": \"par_648\", \"shape\": \"dot\", \"title\": \"\\\\u003ca href=\\\\\"#\\\\\" title=\\\\\"Line 1\\\\u0026#5;Line 2\\\\u0026#5;Line 3\\\\\"\\\\u003e U.S. Department of Justice Aaerfle:,\\\\u00b7 Wark Pretittet // Mu:,\\\\u00b7 Cafltttifl: Muterittl Pt1ateeteti Ufl:tier Feti. R. Ct1im. P. 6(e) 2. Additional Efforts to Have Sessions Unrecuse or Direct Investigations Covered by his Recusal Later in 2017, the President continued to urge Sessions to reverse his recusal from campaign-related investigations and considered replacing Sessions with an Attorney General who would not be recused. On October 16, 2017, the President met privately with Sessions and said that the Department of Justice was not investigating individuals and events that the President thought the Department should be investigating.752 According to contemporaneous notes taken by Porter, who was at the meeting, the President mentioned Clinton\\\\u0027s emails and said, \\\\\"Don\\\\u0027t have to tell us, just take [a] look.\\\\\"753 Sessions did not offer any assurances or promises to the President that the Department of Justice would comply with that request. 754 Two days later, on October 18, 2017, the President tweeted, \\\\\"Wow, FBI confirms report that James Corney drafted letter exonerating Crooked Hillary Clinton long before investigation was complete. Many people not interviewed, including Clinton herself. Corney stated under oath that he didn\\\\u0027t do this-obviously a fix? Where is Justice Dept?\\\\\"755 On October 29, 2017, the President tweeted that there was \\\\\"ANGER \\\\u0026 UNITY\\\\\" over a \\\\\"lack of investigation\\\\\" of Clinton arid \\\\\"the Corney fix,\\\\\" and concluded: \\\\\"DO SOMETHTNG!\\\\\"756 On December 6, 2017, five days after Flynn pleaded guilty to lying about his contacts with the Russian government, the President asked to speak with Sessions in the Oval Office at the end of a cabinet meeting.757 During that Oval Office meeting, which Porter attended, the President again suggested that Sessions could \\\\\"unrecuse,\\\\\" which Porter linked to taking back supervision of the Russia investigation and directing an investigation of Hillary Clinton.758 According to contemporaneous notes taken by Porter, the President said, \\\\\"T don\\\\u0027t know if you could un-recuse yourself. You\\\\u0027d be a hero. Not telling you to do anything. Dershowitz says POTUS can get involved. Can order AG to investigate. I don\\\\u0027t want to get involved. I\\\\u0027m not going to get involved. I\\\\u0027m not going to do anything or direct you to do anything. I just want to be treated fairly.\\\\\"759 According to Porter\\\\u0027s notes, Sessions responded, \\\\\"We are taking steps; whole new leadership 752 Porter 5/8/18 302, at 10. 753 SC RRP000024 (Porter 10/16/17 Notes); see Porter 5/8/18 302, at 10. 754 Porter 5/8/18 302, at 10. 755 @realDonaldTrump 10/18/17 (6:21 a.m. ET) Tweet; @realDonaldTrump 10/18/17 (6:27 a.m. ET) Tweet. 756@realDonaldTrump 10/29/17 (9:53 a.m. ET) Tweet;@realDonaldTrump 10/29/17 (10:02 a.m. ET) Tweet; @rea!DonaldTrump 10/29/17 ( 10: 17 a.m. ET) Tweet. 757 Porter 4/13/18 302, at 5-6; see SC_ RRP000031 (Porter 12/6/17 Notes) (\\\\\"12:45pm With the President, Gen. Kelly, and Sessions (who I pulled in after the Cabinet meeting)\\\\\"); SC_RRP000033 (Porter 12/6/17 Notes) (\\\\\"Post-cabinet meeting -POTUS asked me to get AG Sessions. Asked me to stay. Also COS Kelly.\\\\\"). 758 Porter 5/8/18 302, at 12; Porter 4/ 13/ l 8 302, at 5-6. 759 SC_ RRP000033 (Porter 12/6/17 Notes); see Porter 4/13/18 302, at 6; Porter 5/8/18 302, at 12. 109 \\\\u003c/a\\\\u003e\", \"value\": 18}, {\"color\": \"Red\", \"id\": \"James Corney\", \"label\": \"James Corney\", \"shape\": \"dot\", \"title\": \"James Corney\", \"value\": 10}, {\"color\": \"Red\", \"id\": \"Corney\", \"label\": \"Corney\", \"shape\": \"dot\", \"title\": \"Corney\", \"value\": 97}, {\"color\": \"Red\", \"id\": \"Flynn\", \"label\": \"Flynn\", \"shape\": \"dot\", \"title\": \"Flynn\", \"value\": 90}, {\"color\": \"grey\", \"id\": \"par_564\", \"label\": \"par_564\", \"shape\": \"dot\", \"title\": \"\\\\u003ca href=\\\\\"#\\\\\" title=\\\\\"Line 1\\\\u0026#5;Line 2\\\\u0026#5;Line 3\\\\\"\\\\u003e U.S. Department of Justice At:ton1.e~\\\\u00b7 1.Vork Proettet // May Cofltftifl Material Proteetee Uf!aer Fee. R. Crim. P. 6(e) President\\\\u0027s decision to terminate Corney was driven by the recommendations the President received from Rosenstein and Sessions.467 In the morning on May 10, 2017, President Trump met with Russian Foreign Minister Sergey Lavrov and Russian Ambassador Sergey Kislyak in the Oval Office.468 The media subsequently reported that during the May 10 meeting the President brought up his decision the prior day to terminate Corney, telling Lavrov and Kislyak: \\\\\"T just fired the head of the F.B.I. He was crazy, a real nut job. I faced great pressure because of Russia. That\\\\u0027s taken off. ... I\\\\u0027m not under investigation.\\\\\"469 The President never denied making those statements, and the White House did not dispute the account, instead issuing a statement that said: \\\\\"By grandstanding and politicizing the investigation into Russia\\\\u0027s actions, James Corney created unnecessary pressure on our ability to engage and negotiate with Russia. The investigation would have always continued, and obviously, the termination of Corney would not have ended it. Once again, the real story is that our national security has been undermined by the leaking of private and highly classified information.\\\\\"470 Hicks said that when she told the President about the reports on his meeting with Lavrov, he did not look concerned and said of Corney, \\\\\"he is crazy.\\\\\"471 When McGahn asked the President about his comments to Lavrov, the President said it was good that Corney was fired because that took the pressure off by making it clear that he was not under investigation so he could get more work done.472 That same morning, on May 10, 2017, the President called McCabe.473 According to a memorandum McCabe wrote following the call, the President asked McCabe to come over to the White House to discuss whether the President should visit FBI headquarters and make a speech to 467 See, e.g., Sarah Sanders, White House Daily Briefing, C-SPAN (May 10, 2017); SCR013_001088 (5/10/17 Email, Hemming to Cheung et al.) (internal White House email describing comments on the Corney termination by Vice President Pence). 468 SCR08_000353 (5/9/17 White House Document, \\\\\"Working Visit with Foreign Minister Sergey Lavrov of Russia\\\\\"); SCR08_001274 (5/10/17 Email, Ciaramella to Kelly et al.). The meeting had been planned on May 2, 2017, during a telephone call between the President and Russian President Vladimir Putin, and the meeting date was confirmed on May 5, 2017, the same day the President dictated ideas for the Corney termination letter to Stephen Miller. SCR08_001274 (5/10/17 Email, Ciaramella to Kelly \\\\u003c/a\\\\u003e\", \"value\": 17}, {\"color\": \"grey\", \"id\": \"par_587\", \"label\": \"par_587\", \"shape\": \"dot\", \"title\": \"\\\\u003ca href=\\\\\"#\\\\\" title=\\\\\"Line 1\\\\u0026#5;Line 2\\\\u0026#5;Line 3\\\\\"\\\\u003e U.S. Department of Justice A~erHe~\\\\u00b7 \\\\\\\\\\\\\\\\\\\\u0027erk Predttet // Moy CeHtoiH Material Preteeted UHaer Fee. R:. Crim. P. 6(e) just[ice].\\\\\"541 McGahn told the President that his \\\\\"biggest exposure\\\\\" was not his act of firing Corney but his \\\\\"other contacts\\\\\" and \\\\\"calls,\\\\\" and his \\\\\"ask re: Flynn.\\\\\"542 By the time McGahn provided this advice to the President, there had been widespread reporting on the President\\\\u0027s request for Corney\\\\u0027s loyalty, which the President publicly denied; his request that Corney \\\\\"let[] Flynn go,\\\\\" which the President also denied; and the President\\\\u0027s statement to the Russian Foreign Minister that the termination of Corney had relieved \\\\\"great pressure\\\\\" related to Russia, which the President did not deny.543 On June 8, 2017, Corney testified before Congress about his interactions with the President before his termination, including the request for loyalty, the request that Corney \\\\\"let[] Flynn go,\\\\\" and the request that Corney \\\\\"lift the cloud\\\\\" over the presidency caused by the ongoing investigation.544 Corney\\\\u0027s testimony led to a series of news reports about whether the President had obstructedjustice.545 On June 9, 2017, the Special Counsel\\\\u0027s Office informed the White House Counsel\\\\u0027s Office that investigators intended to interview intelligence community officials who had allegedly been asked by the President to push back against the Russia investigation.546 On Monday, June 12, 2017, Christopher Ruddy, the chief executive ofNewsmax Media and a longtime friend of the President\\\\u0027s, met at the White House with Priebus and Bannon.547 Ruddy recalled that they told him the President was strongly considering firing the Special Counsel 541 SC_AD_00361 (Donaldson 5/31/17Notes). 542 SC AD 00361 (Donaldson 5/31 / 17 Notes). 543 See, e.g., Michael S. Schmidt, In a Private Dinner, Trump Demanded Loyalty. Corney Demurred., New York Times (May 11, 2017); Michael S. Schmidt, Corney Memorandum Says Trump Asked Him to End Flynn Investigation, New York Times (May 16, 2017); Matt Apuzzo et al., Trump Told Russians That Firing \\\\u0027Nut Job\\\\u0027 Corney Eased Pressure From Investigation, New York Times (May 19, 2017). 544 Hearing on Russian Election Interference Before the Senate Select Intelligence Committee, I 15th Cong. (June 8, 2017) (Statement for the Record of James B. Corney, former Director of the FBI, at 5-6). Corney testified that he deliberately caused his memorandum documenting the February 14, 2017 meeting to be leaked to the New York Times in response to a tweet from the President, sent on May 12, 2017, that stated \\\\\"James Corney better hope that there are no \\\\u0027tapes\\\\u0027 of our conversations before he starts leaking to the press!,\\\\\" and because he thought sharing the memorandum with a reporter \\\\\"might prompt the appointment of a special counsel.\\\\\" Hearing on Russian \\\\u003c/a\\\\u003e\", \"value\": 9}, {\"color\": \"grey\", \"id\": \"par_434\", \"label\": \"par_434\", \"shape\": \"dot\", \"title\": \"\\\\u003ca href=\\\\\"#\\\\\" title=\\\\\"Line 1\\\\u0026#5;Line 2\\\\u0026#5;Line 3\\\\\"\\\\u003e U.S. Department of Justice AMat\\\\u0027Ae)\\\\u0027 \\\\u0027ilafk Pt\\\\u0027adttet // Muy CaAtO:it\\\\u0027l M0:teri0:I Prateeted UAder Fed. R. Crim. P. 6(e) The omnibus clause of 18 U.S.C. \\\\u00a7 1503 prohibits an \\\\\"endeavor\\\\\" to obstruct justice, which sweeps more broadly than Section 1512\\\\u0027s attempt provision. See United States v. Sampson, 898 F.3d 287,302 (2d Cir. 2018); United States v. Leisure, 844 F.2d 1347, 1366-1367 (8th Cir. 1988) ( collecting cases). \\\\\"It is well established that a[ n] [obstruction-of-justice] offense is complete when one corruptly endeavors to obstruct or impede the due administration of justice; the prosecution need not prove that the due administration of justice was actually obstructed or impeded.\\\\\" United States v. Davis, 854 F .3d 1276, 1292 (11th Cir. 2017) (internal quotation marks omitted). B. Investigative and Evidentiary Considerations After the appointment of the Special Counsel, this Office obtained evidence about the following events relating to potential issues of obstruction of justice involving the President: (a) The President\\\\u0027s January 27, 2017 dinner with former FBI Director James Corney in which the President reportedly asked for Corney\\\\u0027s loyalty, one day after the White House had been briefed by the Department of Justice on contacts between former National Security Advisor Michael Flynn and the Russian Ambassador; (b) The President\\\\u0027s February 14, 2017 meeting with Corney in which the President reportedly asked Corney not to pursue an investigation of Flynn; (c) The President\\\\u0027s private requests to Corney to make public the fact that the President was not the subject of an FBI investigation and to lift what the President regarded as a cloud; (d) The President\\\\u0027s outreach to the Director of National Intelligence and the Directors of the National Security Agency and the Central Intelligence Agency about the FBI\\\\u0027s Russia investigation; (e) The President\\\\u0027s stated rationales for terminating Corney on May 9, 2017, including statements that could reasonably be understood as acknowledging that the FBT\\\\u0027s Russia investigation was a factor in Corney\\\\u0027s termination; and (f) The President\\\\u0027s reported involvement in issuing a statement about the June 9, 2016 Trump Tower meeting between Russians and senior Trump Campaign officials that said the meeting was about adoption and omitted that the Russians had offered to provide the Trump Campaign with derogatory information about Hillary Clinton. Taking into account that information and our analysis of applicable statutory and constitutional principles (discussed below in Volume II, Section III, infra), we determined that \\\\u003c/a\\\\u003e\", \"value\": 10}, {\"color\": \"grey\", \"id\": \"par_568\", \"label\": \"par_568\", \"shape\": \"dot\", \"title\": \"\\\\u003ca href=\\\\\"#\\\\\" title=\\\\\"Line 1\\\\u0026#5;Line 2\\\\u0026#5;Line 3\\\\\"\\\\u003e U.S. Department of Justice AUoffle\\\\u0027.Y Work Proeuet // May CoRtaifl Material Proteetee Ufl:eer Fee. R. Criffl. P. 6(e) employees.474 The President said he had received \\\\\"hundreds\\\\\" of messages from FBI employees indicating their support for terminating Comey.475 The President also told McCabe that Corney should not have been permitted to travel back to Washington, D.C. on the FBI\\\\u0027s airplane after he had been terminated and that he did not want Corney \\\\\"in the building again,\\\\\" even to collect his belongings.476 When McCabe met with the President that afternoon, the President, without prompting, told McCabe that people in the FBI loved the President, estimated that at least 80% of the FBI had voted for him, and asked McCabe who he had voted for in the 2016 presidential election.477 \\\\u00b7 In the afternoon of May 10, 2017, deputy press secretary Sarah Sanders spoke to the President about his decision to fire Corney and then spoke to reporters in a televised press conference.478 Sanders told reporters that the President, the Department of Justice, and bipartisan members of Congress had lost confidence in Corney, \\\\\"[a]nd most importantly, the rank and file of the FBI had lost confidence in their director. Accordingly, the President accepted the recommendation of his Deputy Attorney General to remove James Corney from his position.\\\\\"479 In response to questions from reporters, Sanders said that Rosenstein decided \\\\\"on his own\\\\\" to review Corney\\\\u0027s performance and that Rosenstein decided \\\\\"on his own\\\\\" to come to the President on Monday, May 8 to express his concerns about Corney. When a reporter indicated that the \\\\\"vast majority\\\\\" of FBI agents supported Corney, Sanders said, \\\\\"Look, we\\\\u0027ve heard from countless members of the FBI that say very different things.\\\\\"48\\\\u00b0 Following the press conference, Sanders spoke to the President, who told her she did a good job and did not point out any inaccuracies in her comments.481 Sanders told this Office that her reference to hearing from \\\\\"countless members of the FBI\\\\\" was a \\\\\"slip of the tongue.\\\\\"482 She also recalled that her statement in a separate press interview that rank-and-file FBI agents had lost confidence in Corney was a comment she made \\\\\"in the heat of the moment\\\\\" that was not founded on anything.483 Also on May I 0, 2017, Sessions and Rosenstein each spoke to McGahn and expressed concern that the White House was creating a narrative that Rosenstein had initiated the decision to 474 McCabe 5/10/l 7 Memorandum, at 1. 475 McCabe 5/ I 0/17 Memorandum, at I. 476 McCabe 5/10/17 Memorandum, at I; Rybicki 6/13/17 302, at 2. Corney had been visiting the FBl\\\\u0027s Los Angeles office when he found out he had been terminated. Corney 11 /15/17 302, at 22. 477 McCabe 5/10/17 Memorandum, at 1-2. McCabe\\\\u0027s memorandum documenting his meeting with the President is consistent with notes taken by the White House Counsel\\\\u0027s Office. See SC_AD_00347 (Donaldson 5/10/17 Notes). \\\\u00b7 478 Sanders 7/3/18 302, at 4; Sarah Sanders, White House Daily Briefing, C-SPAN (May I 0, 2017). 479 Sarah Sanders, White House Daily Briefing, C-SPAN (May I 0\\\\u003c/a\\\\u003e\", \"value\": 13}, {\"color\": \"grey\", \"id\": \"par_562\", \"label\": \"par_562\", \"shape\": \"dot\", \"title\": \"\\\\u003ca href=\\\\\"#\\\\\" title=\\\\\"Line 1\\\\u0026#5;Line 2\\\\u0026#5;Line 3\\\\\"\\\\u003e U.S. Department of Justice AH6rttey W6rk Pr6clttet // May C6tttaiH Material Pr6teetecl Uflcler Fecl. R. Crim. P. 6(e) the President.445 Dhillon made a final pitch to the President that Corney should be permitted to resign, but the President refused.446 Around the time the President\\\\u0027s letter was finalized, Priebus summoned Spicer and the press team to the Oval Office, where they were told that Corney had been terminated for the reasons stated in the letters by Rosenstein and Sessions.447 To announce Corney\\\\u0027s termination, the White House released a statement, which Priebus thought had been dictated by the President.448 In full, the statement read: \\\\\"Today, President Donald J. Trump informed FBI Director James Corney that he has been terminated and removed from office. President Trump acted based on the clear recommendations of both Deputy Attorney General Rod Rosenstein and Attorney General Jeff Sessions.\\\\\"449 That evening, FBI Deputy Director Andrew McCabe was summoned to meet with the President at the White House.450 The President told McCabe that he had fired Corney because of the decisions Corney had made in the Clinton email investigation and for many other reasons.451 The President asked McCabe if he was aware that Corney had told the President three times that he was not under investigation.452 The President also asked McCabe whether many people in the FBI disliked Corney and whether McCabe was part of the \\\\\"resistance\\\\\" that had disagreed with Corney\\\\u0027s decisions in the Clinton investigation.453 McCabe told the President that he knew Corney had told the President he was not under investigation, that most people in the FBI felt positively about Corney, and that McCabe worked \\\\\"very closely\\\\\" with Corney and was part of all the decisions that had been made in the Clinton investigation.454 445 Dhillon 11/21/17 302, at 10; Eisenberg 11/29/17 302, at 15 (providing the view that the President\\\\u0027s desire to include the language about not being under investigation was the \\\\\"driving animus of the whole thing\\\\\"); Burnham 11/3/17 302, at 16 (Burnham knew the only line the President cared about was the line that said Corney advised the President on three separate occasions that the President was not under investigation). According to Hunt\\\\u0027s notes, the reference to Corney\\\\u0027s statement would indicate that \\\\\"notwithstanding\\\\\" Corney\\\\u0027s having informed the President that he was not under investigation, the President was terminating Corney. Hunt-000032 (Hunt 5/9/17 Notes). McGahn said he believed the President wanted the language included so that people would not think that the President had terminated Corney because the President was under investigation. McGahn 12/12/17 302, at 15. 446 McGahn 12/12/17 302, at 15; Donaldson 11/6/17 302, at 25; see SC_AD_00342 (Donaldson 5/9/17 Notes) (\\\\\"Resign vs. Removal. -POTUS/removal.\\\\\"). 447 Spicer 10/16/17 302, at 9; McGahn 12/12/17 302, at 16. 448 Priebus I OJ 13/ l 7 302, at 28. 449 Statement of the Press Secretary, The White House, Office of the Press Secretary (May 9, 2017). 450 McCabe 9/26/17 302, at 4; SCR025_000044 (President\\\\u0027s Daily Diary, 5/9/17); McCabe 5/10/17 Memorandum, at 1. 451 McCabe 9/26/17 302, at 5; McCabe 5/10/17 Memorandum, at I. 452 McCabe 9/26/17 302, at 5; McCabe 5/10/17 Memorandum, at 1-2. 453 McCabe 9/26/17 302, at 5; McCabe 5/10/17 Memorandum, at 1-2. 454 McCabe 9/26/ 17 302, at 5; McCabe 5/ 10/ 17 Memorandum, at 1-2. 69 \\\\u003c/a\\\\u003e\", \"value\": 17}, {\"color\": \"grey\", \"id\": \"par_461\", \"label\": \"par_461\", \"shape\": \"dot\", \"title\": \"\\\\u003ca href=\\\\\"#\\\\\" title=\\\\\"Line 1\\\\u0026#5;Line 2\\\\u0026#5;Line 3\\\\\"\\\\u003e about the calls in the first week after the inauguration, and Flynn told similar lies to the FBI. On January 26, 2017, Department of Justice (DOJ) officials notified the White House that Flynn and the Russian Ambassador had discussed sanctions and that Flynn had been interviewed by the FBT. The next night, the President had a private dinner with FBI Director James Corney in which he asked for Corney\\\\u0027s loyalty. On February 13, 2017, the President asked Flynn to resign. The following day, the President had a one-on-one conversation with Corney in which he said, \\\\\"I hope you can see your way clear to letting this go, to letting Flynn go.\\\\\" Evidence 1. Incoming National Security Advisor Flynn Discusses Sanctions on Russia with Russian Ambassador Sergey Kislyak Shortly after the election, President-Elect Trump announced he would appoint Michael Flynn as his National Security Advisor.78 For the next two months, Flynn played an active role on the Presidential Transition Team (PTT) coordinating policy positions and communicating with foreign government officials, including Russian Ambassador to the United States Sergey Kislyak.79 On December 29, 2016, as noted in Volume II, Section TT.A.4, supra, the Obama Administration announced that it was imposing sanctions and other measures on several Russian individuals and entities.80 That day, multiple members of the PTT exchanged emails about the sanctions and the impact they would have on the incoming Administration, and Flynn informed members of the PTT that he would be speaking to the Russian Ambassador later in the day.81 78 Flynn 11/16/17 302, at 7; President-Elect Donald.I Trump Selects US. Senator Jeff Sessions for Attorney General, Lt. Gen. Michael Flynn as Assistant to the President for National Security Affairs and US. Rep. Mike Pompeo as Director of the Central Intelligence Agency, President-Elect Donald J. Trump Press Release (Nov. 18, 2016); see also, e.g., Bryan Bender, Trump names Mike Flynn national security adviser, Politico, (Nov. 17, 2016). 79 Flynn 11 /16/17 302, at 8-14; Priebus I 0/13/17 302, at 3-5. 80 Statement by the President on Actions in Response to Russian Malicious Cyber Activity and Harassment, The White House, Office of the Press Secretary (Dec. 29, 2016). 81 12/29/16 Email, O\\\\u0027Brien to McFarland et al.; 12/29/16 Email, Bossert to Flynn et al.; 12/29/16 Email, McFarland to Flynn et al.; SF00000 I (12/29/16 Text Message, Flynn to Flaherty) (\\\\\"Tit for tat w Russia not good. Russian AMBO reaching out to me today.\\\\\"); Flynn 1/19/18 302, at 2. 24 \\\\u003c/a\\\\u003e\", \"value\": 24}, {\"color\": \"grey\", \"id\": \"par_574\", \"label\": \"par_574\", \"shape\": \"dot\", \"title\": \"\\\\u003ca href=\\\\\"#\\\\\" title=\\\\\"Line 1\\\\u0026#5;Line 2\\\\u0026#5;Line 3\\\\\"\\\\u003e U.S. Department of Justice Attenatey Werk Preattet // May CeAte:iA Material Pt\\\\u0027eteetea UAaer Fea. R. Criffi. P. 6(e) after being sworn in.495 Late in the morning of May 12, 2017, the President tweeted, \\\\\"Again, the story that there was collusion between the Russians \\\\u0026 Trump campaign was fabricated by Dems as an excuse for losing the election.\\\\\"496 The President also tweeted, \\\\\"James Corney better hope that there are no \\\\u0027tapes\\\\u0027 of our conversations before he starts leaking to the press!\\\\\" and \\\\\"When James Clapper himself, and virtually everyone else with knowledge of the witch hunt, says there is no collusion, when does it end?\\\\\"497 Analysis In analyzing the President\\\\u0027s decision to fire Corney, the following evidence is relevant to the elements of obstruction of justice: a. Obstructive act. The act of firing Corney removed the individual overseeing the FBI\\\\u0027s Russia investigation. The President knew that Corney was personally involved in the investigation based on Corney\\\\u0027s briefing of the Gang of Eight, Corney\\\\u0027s March 20, 2017 public testimony about the investigation, and the President\\\\u0027s one-on-one conversations with Corney. Firing Corney would qualify as an obstructive act if it had the natural and probable effect of interfering with or impeding the investigation-for example, if the termination would have the effect of delaying or disrupting the investigation or providing the President with the opportunity to appoint a director who would take a different approach to the investigation that the President perceived as more protective of his personal interests. Relevant circumstances bearing on that issue include whether the President\\\\u0027s actions had the potential to discourage a successor director or other law enforcement officials in their conduct of the Russia investigation. The President fired Corney abruptly without offering him an opportunity to resign, banned him from the FBI building, and criticized him publicly, calling him a \\\\\"showboat\\\\\" and claiming that the FBI was \\\\\"in turmoil\\\\\" under his leadership. And the President followed the termination with public statements that were highly critical of the investigation; for example, three days after firing Corney, the President referred to the investigation as a \\\\\"witch hunt\\\\\" and asked, \\\\\"when does it end?\\\\\" Those actions had the potential to affect a successor director\\\\u0027s conduct of the investigation. The anticipated effect of removing the FBI director, however, would not necessarily be to prevent or impede the FBI from continuing its investigation. As a general matter, FBI investigations run under the operational direction of FBI personnel levels below the FBI director. Bannon made a similar point when he told the President that he could fire the FBI director, but could not fire the FBI. The White House issued a press statement the day after Corney was fired that said, \\\\\"The investigation would have always continued, and obviously, the termination of Corney would not have ended it.\\\\\" Tn addition, in his May 11 interview with Lester Holt, the President stated that he understood when he made the decision to fire Corney that the action might prolong the investigation. And the President chose McCabe to serve as interim director, e\\\\u003c/a\\\\u003e\", \"value\": 12}]);\\n        edges = new vis.DataSet([{\"from\": \"par_648\", \"to\": \"James Corney\", \"value\": 1}, {\"from\": \"par_648\", \"to\": \"Corney\", \"value\": 2}, {\"from\": \"par_648\", \"to\": \"Flynn\", \"value\": 1}, {\"from\": \"par_564\", \"to\": \"Corney\", \"value\": 7}, {\"from\": \"par_564\", \"to\": \"James Corney\", \"value\": 1}, {\"from\": \"par_587\", \"to\": \"Corney\", \"value\": 11}, {\"from\": \"par_587\", \"to\": \"Flynn\", \"value\": 2}, {\"from\": \"par_587\", \"to\": \"James Corney\", \"value\": 1}, {\"from\": \"par_434\", \"to\": \"James Corney\", \"value\": 1}, {\"from\": \"par_434\", \"to\": \"Corney\", \"value\": 6}, {\"from\": \"par_434\", \"to\": \"Flynn\", \"value\": 1}, {\"from\": \"par_568\", \"to\": \"Corney\", \"value\": 9}, {\"from\": \"par_568\", \"to\": \"James Corney\", \"value\": 1}, {\"from\": \"par_562\", \"to\": \"Corney\", \"value\": 16}, {\"from\": \"par_562\", \"to\": \"James Corney\", \"value\": 1}, {\"from\": \"Corney\", \"to\": \"par_461\", \"value\": 2}, {\"from\": \"Corney\", \"to\": \"par_574\", \"value\": 12}, {\"from\": \"James Corney\", \"to\": \"par_461\", \"value\": 1}, {\"from\": \"James Corney\", \"to\": \"par_574\", \"value\": 1}, {\"from\": \"par_461\", \"to\": \"Flynn\", \"value\": 11}]);\\n\\n        // adding nodes and edges to the graph\\n        data = {nodes: nodes, edges: edges};\\n\\n        var options = {\\n    \"configure\": {\\n        \"enabled\": false\\n    },\\n    \"edges\": {\\n        \"color\": {\\n            \"inherit\": true\\n        },\\n        \"smooth\": {\\n            \"enabled\": false,\\n            \"type\": \"continuous\"\\n        }\\n    },\\n    \"interaction\": {\\n        \"dragNodes\": true,\\n        \"hideEdgesOnDrag\": false,\\n        \"hideNodesOnDrag\": false\\n    },\\n    \"physics\": {\\n        \"enabled\": true,\\n        \"stabilization\": {\\n            \"enabled\": true,\\n            \"fit\": true,\\n            \"iterations\": 1000,\\n            \"onlyDynamicEdges\": false,\\n            \"updateInterval\": 50\\n        }\\n    }\\n};\\n        \\n        \\n\\n        \\n\\n        network = new vis.Network(container, data, options);\\n\\n        \\n        // make a custom popup\\n        var popup = document.createElement(\"div\");\\n        popup.className = \\'popup\\';\\n        popupTimeout = null;\\n        popup.addEventListener(\\'mouseover\\', function () {\\n            console.log(popup)\\n            if (popupTimeout !== null) {\\n                clearTimeout(popupTimeout);\\n                popupTimeout = null;\\n            }\\n        });\\n        popup.addEventListener(\\'mouseout\\', function () {\\n            if (popupTimeout === null) {\\n                hidePopup();\\n            }\\n        });\\n        container.appendChild(popup);\\n\\n\\n        // use the popup event to show\\n        network.on(\"showPopup\", function (params) {\\n            showPopup(params);\\n        });\\n\\n        // use the hide event to hide it\\n        network.on(\"hidePopup\", function (params) {\\n            hidePopup();\\n        });\\n\\n\\n        // hiding the popup through css\\n        function hidePopup() {\\n            popupTimeout = setTimeout(function () { popup.style.display = \\'none\\'; }, 500);\\n        }\\n\\n        // showing the popup\\n        function showPopup(nodeId) {\\n            // get the data from the vis.DataSet\\n            var nodeData = nodes.get([nodeId]);\\n            popup.innerHTML = nodeData[0].title;\\n\\n            // get the position of the node\\n            var posCanvas = network.getPositions([nodeId])[nodeId];\\n\\n            // get the bounding box of the node\\n            var boundingBox = network.getBoundingBox(nodeId);\\n\\n            //position tooltip:\\n            posCanvas.x = posCanvas.x + 0.5 * (boundingBox.right - boundingBox.left);\\n\\n            // convert coordinates to the DOM space\\n            var posDOM = network.canvasToDOM(posCanvas);\\n\\n            // Give it an offset\\n            posDOM.x += 10;\\n            posDOM.y -= 20;\\n\\n            // show and place the tooltip.\\n            popup.style.display = \\'block\\';\\n            popup.style.top = posDOM.y + \\'px\\';\\n            popup.style.left = posDOM.x + \\'px\\';\\n        }\\n        \\n\\n\\n        \\n\\n        return network;\\n\\n    }\\n\\n    drawGraph();\\n\\n</script>\\n</body>\\n</html>'"
      ]
     },
     "execution_count": 41,
     "metadata": {},
     "output_type": "execute_result"
    }
   ],
   "source": [
    "subGViz.write_html('graph.html')\n",
    "subGViz.html"
   ]
  },
  {
   "cell_type": "code",
   "execution_count": 76,
   "metadata": {},
   "outputs": [
    {
     "data": {
      "text/plain": [
       "[{'color': 'Red',\n",
       "  'id': 'Bryan Bender',\n",
       "  'label': 'Bryan Bender',\n",
       "  'shape': 'dot',\n",
       "  'title': 'Bryan Bender',\n",
       "  'value': 1},\n",
       " {'color': 'grey',\n",
       "  'id': 'par_461',\n",
       "  'label': 'par_461',\n",
       "  'shape': 'dot',\n",
       "  'title': 'par_461',\n",
       "  'value': 24},\n",
       " {'color': 'grey',\n",
       "  'id': 'par_574',\n",
       "  'label': 'par_574',\n",
       "  'shape': 'dot',\n",
       "  'title': 'par_574',\n",
       "  'value': 12},\n",
       " {'color': 'Black',\n",
       "  'id': 'collusion',\n",
       "  'label': 'collusion',\n",
       "  'shape': 'dot',\n",
       "  'title': 'collusion',\n",
       "  'value': 11},\n",
       " {'color': 'Red',\n",
       "  'id': 'James Corney',\n",
       "  'label': 'James Corney',\n",
       "  'shape': 'dot',\n",
       "  'title': 'James Corney',\n",
       "  'value': 10},\n",
       " {'color': 'Red',\n",
       "  'id': 'Corney',\n",
       "  'label': 'Corney',\n",
       "  'shape': 'dot',\n",
       "  'title': 'Corney',\n",
       "  'value': 97},\n",
       " {'color': 'Blue',\n",
       "  'id': 'Russia',\n",
       "  'label': 'Russia',\n",
       "  'shape': 'dot',\n",
       "  'title': 'Russia',\n",
       "  'value': 280},\n",
       " {'color': 'Red',\n",
       "  'id': 'McCabe',\n",
       "  'label': 'McCabe',\n",
       "  'shape': 'dot',\n",
       "  'title': 'McCabe',\n",
       "  'value': 16},\n",
       " {'color': 'Red',\n",
       "  'id': 'Michael Flynn',\n",
       "  'label': 'Michael Flynn',\n",
       "  'shape': 'dot',\n",
       "  'title': 'Michael Flynn',\n",
       "  'value': 27},\n",
       " {'color': 'grey',\n",
       "  'id': 'par_434',\n",
       "  'label': 'par_434',\n",
       "  'shape': 'dot',\n",
       "  'title': 'par_434',\n",
       "  'value': 10},\n",
       " {'color': 'grey',\n",
       "  'id': 'par_34',\n",
       "  'label': 'par_34',\n",
       "  'shape': 'dot',\n",
       "  'title': 'par_34',\n",
       "  'value': 8},\n",
       " {'color': 'Red',\n",
       "  'id': 'Clinton',\n",
       "  'label': 'Clinton',\n",
       "  'shape': 'dot',\n",
       "  'title': 'Clinton',\n",
       "  'value': 97},\n",
       " {'color': 'Red',\n",
       "  'id': 'Trump',\n",
       "  'label': 'Trump',\n",
       "  'shape': 'dot',\n",
       "  'title': 'Trump',\n",
       "  'value': 131},\n",
       " {'color': 'Red',\n",
       "  'id': 'Rod Rosenstein',\n",
       "  'label': 'Rod Rosenstein',\n",
       "  'shape': 'dot',\n",
       "  'title': 'Rod Rosenstein',\n",
       "  'value': 5},\n",
       " {'color': 'Black',\n",
       "  'id': 'emails',\n",
       "  'label': 'emails',\n",
       "  'shape': 'dot',\n",
       "  'title': 'emails',\n",
       "  'value': 97},\n",
       " {'color': 'grey',\n",
       "  'id': 'par_648',\n",
       "  'label': 'par_648',\n",
       "  'shape': 'dot',\n",
       "  'title': 'par_648',\n",
       "  'value': 18},\n",
       " {'color': 'grey',\n",
       "  'id': 'par_562',\n",
       "  'label': 'par_562',\n",
       "  'shape': 'dot',\n",
       "  'title': 'par_562',\n",
       "  'value': 17},\n",
       " {'color': 'grey',\n",
       "  'id': 'par_564',\n",
       "  'label': 'par_564',\n",
       "  'shape': 'dot',\n",
       "  'title': 'par_564',\n",
       "  'value': 17},\n",
       " {'color': 'grey',\n",
       "  'id': 'par_568',\n",
       "  'label': 'par_568',\n",
       "  'shape': 'dot',\n",
       "  'title': 'par_568',\n",
       "  'value': 13},\n",
       " {'color': 'Red',\n",
       "  'id': 'Donald',\n",
       "  'label': 'Donald',\n",
       "  'shape': 'dot',\n",
       "  'title': 'Donald',\n",
       "  'value': 7},\n",
       " {'color': 'Red',\n",
       "  'id': 'Sergey Lavrov',\n",
       "  'label': 'Sergey Lavrov',\n",
       "  'shape': 'dot',\n",
       "  'title': 'Sergey Lavrov',\n",
       "  'value': 2},\n",
       " {'color': 'Red',\n",
       "  'id': 'Flynn',\n",
       "  'label': 'Flynn',\n",
       "  'shape': 'dot',\n",
       "  'title': 'Flynn',\n",
       "  'value': 90},\n",
       " {'color': 'Red',\n",
       "  'id': 'Sergey Kislyak',\n",
       "  'label': 'Sergey Kislyak',\n",
       "  'shape': 'dot',\n",
       "  'title': 'Sergey Kislyak',\n",
       "  'value': 13},\n",
       " {'color': 'Blue',\n",
       "  'id': 'the United States',\n",
       "  'label': 'the United States',\n",
       "  'shape': 'dot',\n",
       "  'title': 'the United States',\n",
       "  'value': 79},\n",
       " {'color': 'Red',\n",
       "  'id': 'Jeff',\n",
       "  'label': 'Jeff',\n",
       "  'shape': 'dot',\n",
       "  'title': 'Jeff',\n",
       "  'value': 20},\n",
       " {'color': 'Blue',\n",
       "  'id': 'US',\n",
       "  'label': 'US',\n",
       "  'shape': 'dot',\n",
       "  'title': 'US',\n",
       "  'value': 27},\n",
       " {'color': 'Red',\n",
       "  'id': 'Mike Pompeo',\n",
       "  'label': 'Mike Pompeo',\n",
       "  'shape': 'dot',\n",
       "  'title': 'Mike Pompeo',\n",
       "  'value': 1},\n",
       " {'color': 'Red',\n",
       "  'id': 'Mike Flynn',\n",
       "  'label': 'Mike Flynn',\n",
       "  'shape': 'dot',\n",
       "  'title': 'Mike Flynn',\n",
       "  'value': 3},\n",
       " {'color': 'Red',\n",
       "  'id': 'Politico',\n",
       "  'label': 'Politico',\n",
       "  'shape': 'dot',\n",
       "  'title': 'Politico',\n",
       "  'value': 5},\n",
       " {'color': 'Red',\n",
       "  'id': 'Priebus',\n",
       "  'label': 'Priebus',\n",
       "  'shape': 'dot',\n",
       "  'title': 'Priebus',\n",
       "  'value': 37},\n",
       " {'color': 'Red',\n",
       "  'id': \"O'Brien\",\n",
       "  'label': \"O'Brien\",\n",
       "  'shape': 'dot',\n",
       "  'title': \"O'Brien\",\n",
       "  'value': 1},\n",
       " {'color': 'Red',\n",
       "  'id': 'McFarland et al',\n",
       "  'label': 'McFarland et al',\n",
       "  'shape': 'dot',\n",
       "  'title': 'McFarland et al',\n",
       "  'value': 1},\n",
       " {'color': 'Red',\n",
       "  'id': 'Bossert',\n",
       "  'label': 'Bossert',\n",
       "  'shape': 'dot',\n",
       "  'title': 'Bossert',\n",
       "  'value': 1},\n",
       " {'color': 'Red',\n",
       "  'id': 'Flynn et al',\n",
       "  'label': 'Flynn et al',\n",
       "  'shape': 'dot',\n",
       "  'title': 'Flynn et al',\n",
       "  'value': 3},\n",
       " {'color': 'Red',\n",
       "  'id': 'McFarland',\n",
       "  'label': 'McFarland',\n",
       "  'shape': 'dot',\n",
       "  'title': 'McFarland',\n",
       "  'value': 26},\n",
       " {'color': 'Red',\n",
       "  'id': 'SF00000',\n",
       "  'label': 'SF00000',\n",
       "  'shape': 'dot',\n",
       "  'title': 'SF00000',\n",
       "  'value': 1},\n",
       " {'color': 'Red',\n",
       "  'id': 'Flaherty',\n",
       "  'label': 'Flaherty',\n",
       "  'shape': 'dot',\n",
       "  'title': 'Flaherty',\n",
       "  'value': 3},\n",
       " {'color': 'Red',\n",
       "  'id': 'Porter',\n",
       "  'label': 'Porter',\n",
       "  'shape': 'dot',\n",
       "  'title': 'Porter',\n",
       "  'value': 14},\n",
       " {'color': 'grey',\n",
       "  'id': 'par_587',\n",
       "  'label': 'par_587',\n",
       "  'shape': 'dot',\n",
       "  'title': 'par_587',\n",
       "  'value': 9},\n",
       " {'color': 'Red',\n",
       "  'id': 'McGahn',\n",
       "  'label': 'McGahn',\n",
       "  'shape': 'dot',\n",
       "  'title': 'McGahn',\n",
       "  'value': 89},\n",
       " {'color': 'grey',\n",
       "  'id': 'par_542',\n",
       "  'label': 'par_542',\n",
       "  'shape': 'dot',\n",
       "  'title': 'par_542',\n",
       "  'value': 3},\n",
       " {'color': 'Blue',\n",
       "  'id': 'United States',\n",
       "  'label': 'United States',\n",
       "  'shape': 'dot',\n",
       "  'title': 'United States',\n",
       "  'value': 89},\n",
       " {'color': 'Red',\n",
       "  'id': 'Rosenstein',\n",
       "  'label': 'Rosenstein',\n",
       "  'shape': 'dot',\n",
       "  'title': 'Rosenstein',\n",
       "  'value': 23},\n",
       " {'color': 'Black',\n",
       "  'id': 'email',\n",
       "  'label': 'email',\n",
       "  'shape': 'dot',\n",
       "  'title': 'email',\n",
       "  'value': 106},\n",
       " {'color': 'Red',\n",
       "  'id': 'Lavrov',\n",
       "  'label': 'Lavrov',\n",
       "  'shape': 'dot',\n",
       "  'title': 'Lavrov',\n",
       "  'value': 2},\n",
       " {'color': 'Red',\n",
       "  'id': 'Sarah Sanders',\n",
       "  'label': 'Sarah Sanders',\n",
       "  'shape': 'dot',\n",
       "  'title': 'Sarah Sanders',\n",
       "  'value': 8},\n",
       " {'color': 'Red',\n",
       "  'id': 'Hillary Clinton',\n",
       "  'label': 'Hillary Clinton',\n",
       "  'shape': 'dot',\n",
       "  'title': 'Hillary Clinton',\n",
       "  'value': 44},\n",
       " {'color': 'Red',\n",
       "  'id': 'POTUS',\n",
       "  'label': 'POTUS',\n",
       "  'shape': 'dot',\n",
       "  'title': 'POTUS',\n",
       "  'value': 1},\n",
       " {'color': 'Red',\n",
       "  'id': '5th Cong',\n",
       "  'label': '5th Cong',\n",
       "  'shape': 'dot',\n",
       "  'title': '5th Cong',\n",
       "  'value': 3},\n",
       " {'color': 'Red',\n",
       "  'id': 'Sanders',\n",
       "  'label': 'Sanders',\n",
       "  'shape': 'dot',\n",
       "  'title': 'Sanders',\n",
       "  'value': 14}]"
      ]
     },
     "execution_count": 76,
     "metadata": {},
     "output_type": "execute_result"
    }
   ],
   "source": [
    "subGViz.nodes()"
   ]
  },
  {
   "cell_type": "code",
   "execution_count": 46,
   "metadata": {},
   "outputs": [],
   "source": [
    "visualizeGraph(subG)"
   ]
  },
  {
   "cell_type": "code",
   "execution_count": 88,
   "metadata": {},
   "outputs": [],
   "source": [
    "from jinja2 import Template"
   ]
  },
  {
   "cell_type": "code",
   "execution_count": null,
   "metadata": {},
   "outputs": [],
   "source": [
    "Template"
   ]
  }
 ],
 "metadata": {
  "kernelspec": {
   "display_name": "Python 3",
   "language": "python",
   "name": "python3"
  }
 },
 "nbformat": 4,
 "nbformat_minor": 2
}
