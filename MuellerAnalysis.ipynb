{
 "cells": [
  {
   "cell_type": "code",
   "execution_count": 1,
   "metadata": {},
   "outputs": [],
   "source": [
    "import PyPDF2\n",
    "import itertools\n",
    "import spacy\n",
    "import networkx\n",
    "from pyvis.network import Network\n",
    "\n",
    "import pandas as pd\n",
    "import matplotlib.pyplot as plt\n",
    "from spacy.matcher import PhraseMatcher\n",
    "from spacy.tokens import Span\n",
    "import math\n",
    "import re\n",
    "import seaborn as sns\n",
    "import random\n",
    "import numpy as np"
   ]
  },
  {
   "cell_type": "code",
   "execution_count": 2,
   "metadata": {},
   "outputs": [],
   "source": [
    "graphLocation = 'C:/Users/mj514/Documents/blogdownBlog/blog/static/html/'"
   ]
  },
  {
   "cell_type": "code",
   "execution_count": 3,
   "metadata": {},
   "outputs": [],
   "source": [
    "mueller1 = open('Mueller-Report.pdf', 'rb') "
   ]
  },
  {
   "cell_type": "code",
   "execution_count": 4,
   "metadata": {},
   "outputs": [],
   "source": [
    "mueller1Reader = PyPDF2.PdfFileReader(mueller1)"
   ]
  },
  {
   "cell_type": "code",
   "execution_count": 5,
   "metadata": {},
   "outputs": [],
   "source": [
    "muellerPages = []\n",
    "for pageNum in range(mueller1Reader.numPages):\n",
    "    muellerPages.append([par for par in mueller1Reader.getPage(pageNum).extractText().split('\\n')])\n",
    "mueller1.close()"
   ]
  },
  {
   "cell_type": "code",
   "execution_count": 6,
   "metadata": {},
   "outputs": [],
   "source": [
    "muellerParagraphs = sum(muellerPages,[]) #flatten the list of lists"
   ]
  },
  {
   "cell_type": "code",
   "execution_count": 7,
   "metadata": {},
   "outputs": [
    {
     "data": {
      "text/plain": [
       "897"
      ]
     },
     "execution_count": 7,
     "metadata": {},
     "output_type": "execute_result"
    }
   ],
   "source": [
    "len(muellerParagraphs)"
   ]
  },
  {
   "cell_type": "code",
   "execution_count": 8,
   "metadata": {},
   "outputs": [],
   "source": [
    "nlp = spacy.load('C:/Users/mj514/Anaconda3/lib/site-packages/en_core_web_lg/en_core_web_lg-2.0.0')"
   ]
  },
  {
   "cell_type": "code",
   "execution_count": 49,
   "metadata": {},
   "outputs": [
    {
     "ename": "ValueError",
     "evalue": "[E007] 'entity_matcher' already exists in pipeline. Existing names: ['tagger', 'parser', 'ner', 'entity_matcher']",
     "output_type": "error",
     "traceback": [
      "\u001b[1;31m---------------------------------------------------------------------------\u001b[0m",
      "\u001b[1;31mValueError\u001b[0m                                Traceback (most recent call last)",
      "\u001b[1;32m<ipython-input-49-e32d48e90241>\u001b[0m in \u001b[0;36m<module>\u001b[1;34m()\u001b[0m\n\u001b[0;32m     21\u001b[0m \u001b[0mconcept_matcher\u001b[0m \u001b[1;33m=\u001b[0m \u001b[0mEntityMatcher\u001b[0m\u001b[1;33m(\u001b[0m\u001b[0mnlp\u001b[0m\u001b[1;33m,\u001b[0m \u001b[0mterms\u001b[0m\u001b[1;33m,\u001b[0m \u001b[1;34m\"THEME\"\u001b[0m\u001b[1;33m)\u001b[0m\u001b[1;33m\u001b[0m\u001b[0m\n\u001b[0;32m     22\u001b[0m \u001b[1;33m\u001b[0m\u001b[0m\n\u001b[1;32m---> 23\u001b[1;33m \u001b[0mnlp\u001b[0m\u001b[1;33m.\u001b[0m\u001b[0madd_pipe\u001b[0m\u001b[1;33m(\u001b[0m\u001b[0mconcept_matcher\u001b[0m\u001b[1;33m,\u001b[0m \u001b[0mafter\u001b[0m\u001b[1;33m=\u001b[0m\u001b[1;34m\"ner\"\u001b[0m\u001b[1;33m)\u001b[0m\u001b[1;33m\u001b[0m\u001b[0m\n\u001b[0m\u001b[0;32m     24\u001b[0m \u001b[1;33m\u001b[0m\u001b[0m\n\u001b[0;32m     25\u001b[0m \u001b[0mprint\u001b[0m\u001b[1;33m(\u001b[0m\u001b[0mnlp\u001b[0m\u001b[1;33m.\u001b[0m\u001b[0mpipe_names\u001b[0m\u001b[1;33m)\u001b[0m  \u001b[1;31m# The components in the pipeline\u001b[0m\u001b[1;33m\u001b[0m\u001b[0m\n",
      "\u001b[1;32mC:\\Users\\mj514\\Anaconda3\\lib\\site-packages\\spacy\\language.py\u001b[0m in \u001b[0;36madd_pipe\u001b[1;34m(self, component, name, before, after, first, last)\u001b[0m\n\u001b[0;32m    263\u001b[0m                 \u001b[0mname\u001b[0m \u001b[1;33m=\u001b[0m \u001b[0mrepr\u001b[0m\u001b[1;33m(\u001b[0m\u001b[0mcomponent\u001b[0m\u001b[1;33m)\u001b[0m\u001b[1;33m\u001b[0m\u001b[0m\n\u001b[0;32m    264\u001b[0m         \u001b[1;32mif\u001b[0m \u001b[0mname\u001b[0m \u001b[1;32min\u001b[0m \u001b[0mself\u001b[0m\u001b[1;33m.\u001b[0m\u001b[0mpipe_names\u001b[0m\u001b[1;33m:\u001b[0m\u001b[1;33m\u001b[0m\u001b[0m\n\u001b[1;32m--> 265\u001b[1;33m             \u001b[1;32mraise\u001b[0m \u001b[0mValueError\u001b[0m\u001b[1;33m(\u001b[0m\u001b[0mErrors\u001b[0m\u001b[1;33m.\u001b[0m\u001b[0mE007\u001b[0m\u001b[1;33m.\u001b[0m\u001b[0mformat\u001b[0m\u001b[1;33m(\u001b[0m\u001b[0mname\u001b[0m\u001b[1;33m=\u001b[0m\u001b[0mname\u001b[0m\u001b[1;33m,\u001b[0m \u001b[0mopts\u001b[0m\u001b[1;33m=\u001b[0m\u001b[0mself\u001b[0m\u001b[1;33m.\u001b[0m\u001b[0mpipe_names\u001b[0m\u001b[1;33m)\u001b[0m\u001b[1;33m)\u001b[0m\u001b[1;33m\u001b[0m\u001b[0m\n\u001b[0m\u001b[0;32m    266\u001b[0m         \u001b[1;32mif\u001b[0m \u001b[0msum\u001b[0m\u001b[1;33m(\u001b[0m\u001b[1;33m[\u001b[0m\u001b[0mbool\u001b[0m\u001b[1;33m(\u001b[0m\u001b[0mbefore\u001b[0m\u001b[1;33m)\u001b[0m\u001b[1;33m,\u001b[0m \u001b[0mbool\u001b[0m\u001b[1;33m(\u001b[0m\u001b[0mafter\u001b[0m\u001b[1;33m)\u001b[0m\u001b[1;33m,\u001b[0m \u001b[0mbool\u001b[0m\u001b[1;33m(\u001b[0m\u001b[0mfirst\u001b[0m\u001b[1;33m)\u001b[0m\u001b[1;33m,\u001b[0m \u001b[0mbool\u001b[0m\u001b[1;33m(\u001b[0m\u001b[0mlast\u001b[0m\u001b[1;33m)\u001b[0m\u001b[1;33m]\u001b[0m\u001b[1;33m)\u001b[0m \u001b[1;33m>=\u001b[0m \u001b[1;36m2\u001b[0m\u001b[1;33m:\u001b[0m\u001b[1;33m\u001b[0m\u001b[0m\n\u001b[0;32m    267\u001b[0m             \u001b[1;32mraise\u001b[0m \u001b[0mValueError\u001b[0m\u001b[1;33m(\u001b[0m\u001b[0mErrors\u001b[0m\u001b[1;33m.\u001b[0m\u001b[0mE006\u001b[0m\u001b[1;33m)\u001b[0m\u001b[1;33m\u001b[0m\u001b[0m\n",
      "\u001b[1;31mValueError\u001b[0m: [E007] 'entity_matcher' already exists in pipeline. Existing names: ['tagger', 'parser', 'ner', 'entity_matcher']"
     ]
    }
   ],
   "source": [
    "#From spacy documentation\n",
    "class EntityMatcher(object):\n",
    "    name = \"entity_matcher\"\n",
    "\n",
    "    def __init__(self, nlp, terms, label):\n",
    "        patterns = [nlp.make_doc(text) for text in terms]\n",
    "        self.matcher = PhraseMatcher(nlp.vocab)\n",
    "        self.matcher.add(label, None, *patterns)\n",
    "\n",
    "    def __call__(self, doc):\n",
    "        matches = self.matcher(doc)\n",
    "        for match_id, start, end in matches:\n",
    "            span = Span(doc, start, end, label=match_id)\n",
    "            doc.ents = list(doc.ents) + [span]\n",
    "        return doc\n",
    "\n",
    "terms = (u\"collude\", u\"collusion\", \n",
    "         u\"conspiracy\", u\"conspire\",u\"hack\", u\"hacking\", u\"cyber intrusions\", \n",
    "         u\"russian hacking\", u\"hackers\",u\"social media\",u\"computer intrusions\",\n",
    "         u\"cybersecurity\",u\"emails\",\"email\")\n",
    "concept_matcher = EntityMatcher(nlp, terms, \"THEME\")\n",
    "\n",
    "nlp.add_pipe(concept_matcher, after=\"ner\")\n",
    "\n",
    "print(nlp.pipe_names)  # The components in the pipeline\n",
    "\n",
    "doc = nlp(u\"This is a hacking, collusion, text about Barack Obama who is the Presedent of The United States\")\n",
    "print([(ent.text, ent.label_) for ent in doc.ents])"
   ]
  },
  {
   "cell_type": "code",
   "execution_count": 10,
   "metadata": {},
   "outputs": [],
   "source": [
    "%time\n",
    "nlpParagraphs= list(nlp.pipe(muellerParagraphs, n_threads=16, batch_size=50))"
   ]
  },
  {
   "cell_type": "code",
   "execution_count": 11,
   "metadata": {},
   "outputs": [
    {
     "data": {
      "text/plain": [
       "mails belonging to_, and emails from 2015 relating to Republican Party employees (under the portfolio name \"The United States Republican Party\"). \"The United States Republican Party\" portfolio contained approximately 300 emails from a variety of GOP members, PACs, campaigns, state parties, and businesses dated between May and October 2015. According to open-source reporting, these victims shared the same 41 "
      ]
     },
     "execution_count": 11,
     "metadata": {},
     "output_type": "execute_result"
    }
   ],
   "source": [
    "nlpParagraphs[101]"
   ]
  },
  {
   "cell_type": "code",
   "execution_count": 12,
   "metadata": {},
   "outputs": [
    {
     "name": "stdout",
     "output_type": "stream",
     "text": [
      "Label: THEME text:hacking count:1\n",
      "Label: THEME text:collusion count:1\n",
      "Label: PERSON text:Barack Obama count:1\n",
      "Label: PERSON text:Presedent count:1\n",
      "Label: GPE text:The United States count:1\n"
     ]
    }
   ],
   "source": [
    "from collections import Counter\n",
    "aDoc = nlpParagraphs[101]\n",
    "\n",
    "entCountDict = Counter([(ent.text, ent.label_) for ent in doc.ents if not re.match(r\"\\.\", ent.text) and (ent.label_=='GPE' or ent.label_ =='PERSON' or ent.label_ =='THEME') ])\n",
    "\n",
    "for k,v in entCountDict.items():\n",
    "    print(f\"Label: {k[1]} text:{k[0]} count:{v}\")"
   ]
  },
  {
   "cell_type": "markdown",
   "metadata": {},
   "source": [
    "# Tried using fuzzy wuzzy library to dedup\n",
    "Wasn't happy with results so I don't use it, but feel free to try it out."
   ]
  },
  {
   "cell_type": "code",
   "execution_count": 12,
   "metadata": {},
   "outputs": [
    {
     "name": "stderr",
     "output_type": "stream",
     "text": [
      "UserWarning: Using slow pure-python SequenceMatcher. Install python-Levenshtein to remove this warning [fuzz.py:11]\n"
     ]
    }
   ],
   "source": [
    "from fuzzywuzzy import fuzz\n",
    "from fuzzywuzzy import process"
   ]
  },
  {
   "cell_type": "code",
   "execution_count": 13,
   "metadata": {},
   "outputs": [],
   "source": [
    "\n",
    "ents = [[ent.text.strip() for ent in doc.ents if not re.match(r\"\\.\", ent.text) \n",
    "         and (ent.label_=='GPE' or ent.label_ =='PERSON' or ent.label_ =='THEME')] for doc in nlpParagraphs]\n",
    "distinctEnts = list(set(sum(ents,[])))"
   ]
  },
  {
   "cell_type": "code",
   "execution_count": null,
   "metadata": {},
   "outputs": [],
   "source": [
    "dedupDict = {}\n",
    "for i in range(len(distinctEnts)):\n",
    "    if(i%10 == 0):\n",
    "        print(len(distinctEnts))\n",
    "    searchTerm = distinctEnts.pop(0)\n",
    "    matchList = process.extractBests(searchTerm, distinctEnts[1:],score_cutoff=90)\n",
    "    \n",
    "    if(len(matchList) == 0):\n",
    "        dedupDict[searchTerm] = searchTerm\n",
    "    else:\n",
    "        print(searchTerm)\n",
    "        print(matchList)\n",
    "        for m in matchList:\n",
    "            dedupDict[m[0]] = searchTerm\n",
    "            distinctEnts.remove(m[0])"
   ]
  },
  {
   "cell_type": "code",
   "execution_count": 14,
   "metadata": {},
   "outputs": [
    {
     "ename": "NameError",
     "evalue": "name 'matchList' is not defined",
     "output_type": "error",
     "traceback": [
      "\u001b[1;31m---------------------------------------------------------------------------\u001b[0m",
      "\u001b[1;31mNameError\u001b[0m                                 Traceback (most recent call last)",
      "\u001b[1;32m<ipython-input-14-a85d65bb0c8f>\u001b[0m in \u001b[0;36m<module>\u001b[1;34m()\u001b[0m\n\u001b[1;32m----> 1\u001b[1;33m \u001b[0mmatchList\u001b[0m\u001b[1;33m[\u001b[0m\u001b[1;36m0\u001b[0m\u001b[1;33m]\u001b[0m\u001b[1;33m[\u001b[0m\u001b[1;36m0\u001b[0m\u001b[1;33m]\u001b[0m\u001b[1;33m\u001b[0m\u001b[0m\n\u001b[0m",
      "\u001b[1;31mNameError\u001b[0m: name 'matchList' is not defined"
     ]
    }
   ],
   "source": [
    "matchList[0][0]"
   ]
  },
  {
   "cell_type": "code",
   "execution_count": 13,
   "metadata": {},
   "outputs": [],
   "source": [
    "def from_nx(graphVizNet, nx_graph):\n",
    "        \"\"\"\n",
    "        This method takes an exisitng Networkx graph and translates\n",
    "        it to a PyVis graph format that can be accepted by the VisJs\n",
    "        API in the Jinja2 template. This operation is done in place.\n",
    "\n",
    "        :param nx_graph: The Networkx graph object that is to be translated.\n",
    "        :type nx_graph: networkx.Graph instance\n",
    "        >>> nx_graph = Networkx.cycle_graph()\n",
    "        >>> nt = Network(\"500px\", \"500px\")\n",
    "        # populates the nodes and edges data structures\n",
    "        >>> nt.from_nx(nx_graph)\n",
    "        >>> nt.show(\"nx.html\")\n",
    "        \"\"\"\n",
    "        assert(isinstance(nx_graph, networkx.Graph))\n",
    "        edges = nx_graph.edges(data=True)\n",
    "        nodes = nx_graph.nodes()\n",
    "        if len(edges) > 0:\n",
    "            for e in edges:\n",
    "                graphVizNet.add_node(e[0], e[0], title=str(e[0]), color = nx_graph.node[e[0]]['color'], value = nx_graph.node[e[0]]['value'])\n",
    "                graphVizNet.add_node(e[1], e[1], title=str(e[1]), color = nx_graph.node[e[1]]['color'], value = nx_graph.node[e[1]]['value'])\n",
    "                graphVizNet.add_edge(e[0], e[1], value = nx_graph.edges[e[0],e[1]]['weight'])\n",
    "        else:\n",
    "            graphVizNet.add_nodes(nodes)\n",
    "        return graphVizNet"
   ]
  },
  {
   "cell_type": "code",
   "execution_count": 14,
   "metadata": {},
   "outputs": [
    {
     "data": {
      "text/plain": [
       "['#D6BD8D', '#EDEAC2', '#B5C8B8', '#79A7AC', '#2887A1']"
      ]
     },
     "execution_count": 14,
     "metadata": {},
     "output_type": "execute_result"
    }
   ],
   "source": [
    "import palettable\n",
    "# selectedColors = palettable.colorbrewer.sequential.Blues_4.hex_colors\n",
    "selectedColors = palettable.cartocolors.diverging.Earth_7.hex_colors[-5:]\n",
    "selectedColors"
   ]
  },
  {
   "cell_type": "code",
   "execution_count": 17,
   "metadata": {},
   "outputs": [
    {
     "name": "stdout",
     "output_type": "stream",
     "text": [
      "{'GPE': 'Blue', 'PERSON': 'Red', 'ORG': 'Green', 'THEME': 'Black'}\n",
      "2606\n"
     ]
    }
   ],
   "source": [
    "numParagraphs = len(nlpParagraphs)\n",
    "minConnections = 3\n",
    "\n",
    "G = networkx.Graph()\n",
    "G.clear()\n",
    "\n",
    "colorMap = {'GPE':'Blue','PERSON':'Red','ORG':'Green','THEME':'Black'}\n",
    "#nodeTypes = ['GPE','PERSON','ORG','THEME']\n",
    "#colorMap = {nType:selectedColors[i] for i,nType in enumerate(nodeTypes)}\n",
    "print(colorMap)\n",
    "entCount = 0\n",
    "for parNum, doc in enumerate(nlpParagraphs[0:numParagraphs]):\n",
    "    G.add_node(f\"par_{parNum}\", t = 'Paragraph', color = 'grey')\n",
    "    entCount = 0\n",
    "    \n",
    "    entCountDict = Counter([(ent.string.strip(),ent.label_) for ent in doc.ents if not bool(re.search(r\":|\\.\", ent.text))  and (ent.label_=='GPE' or ent.label_ =='PERSON' or ent.label_ =='THEME')])\n",
    "\n",
    "    for ent,cnt in entCountDict.items():\n",
    "        G.add_node(ent[0],label = ent[1], color = colorMap[ent[1]])\n",
    "        G.add_edge(ent[0],f\"par_{parNum}\", weight = cnt)#math.log(cnt + 1))\n",
    "    if len(entCountDict) <minConnections:\n",
    "        G.remove_node(f\"par_{parNum}\")\n",
    "print(G.number_of_nodes())       \n",
    "nodesToRemove = []\n",
    "for node in G.nodes():\n",
    "    nodeDegree = G.degree(node)\n",
    "    if nodeDegree>0:\n",
    "        G.node[node]['value'] = nodeDegree\n",
    "    else:\n",
    "        nodesToRemove.append(node)\n",
    "\n",
    "for node in nodesToRemove:\n",
    "    G.remove_node(node)"
   ]
  },
  {
   "cell_type": "code",
   "execution_count": 18,
   "metadata": {},
   "outputs": [
    {
     "data": {
      "text/plain": [
       "2554"
      ]
     },
     "execution_count": 18,
     "metadata": {},
     "output_type": "execute_result"
    }
   ],
   "source": [
    "G.number_of_nodes()"
   ]
  },
  {
   "cell_type": "code",
   "execution_count": 19,
   "metadata": {},
   "outputs": [],
   "source": [
    "pyvisG = Network(\"1000px\", \"1000px\")\n",
    "from_nx(pyvisG,G)\n",
    "pyvisG.show_buttons(filter_=['physics'])\n",
    "pyvisG.show('fullMuller.html')"
   ]
  },
  {
   "cell_type": "code",
   "execution_count": 20,
   "metadata": {},
   "outputs": [],
   "source": [
    "pyvisG.save_graph(graphLocation + 'fullMullerGraph.html')"
   ]
  },
  {
   "cell_type": "code",
   "execution_count": 21,
   "metadata": {},
   "outputs": [
    {
     "data": {
      "text/html": [
       "\n",
       "        <iframe\n",
       "            width=\"400px\"\n",
       "            height=\"400px\"\n",
       "            src=\"setupGraph.html\"\n",
       "            frameborder=\"0\"\n",
       "            allowfullscreen\n",
       "        ></iframe>\n",
       "        "
      ],
      "text/plain": [
       "<IPython.lib.display.IFrame at 0x12c098c0908>"
      ]
     },
     "execution_count": 21,
     "metadata": {},
     "output_type": "execute_result"
    }
   ],
   "source": [
    "exampleGraph = Network(\"400px\", \"400px\", notebook = 'True')\n",
    "exampleGraph.add_node('Paragraph', color = 'Grey')\n",
    "exampleGraph.add_node('Location', color = 'Blue')\n",
    "exampleGraph.add_node('Person', color = 'Red')\n",
    "exampleGraph.add_node('Concept/Theme', color = 'Black')\n",
    "\n",
    "exampleGraph.add_edge('Paragraph','Location')\n",
    "exampleGraph.add_edge('Paragraph','Person')\n",
    "exampleGraph.add_edge('Paragraph','Concept/Theme')\n",
    "\n",
    "#pyvisG.show_buttons(filter_=['physics'])\n",
    "exampleGraph.save_graph(graphLocation + 'setupGraph.html')\n",
    "exampleGraph.show('setupGraph.html')"
   ]
  },
  {
   "cell_type": "code",
   "execution_count": 20,
   "metadata": {},
   "outputs": [
    {
     "name": "stdout",
     "output_type": "stream",
     "text": [
      "<class 'dict'>\n"
     ]
    }
   ],
   "source": [
    "d = networkx.algorithms.pagerank(G)\n",
    "print(d.__class__)\n",
    "pageRank = pd.DataFrame([d]).T"
   ]
  },
  {
   "cell_type": "code",
   "execution_count": 21,
   "metadata": {},
   "outputs": [
    {
     "data": {
      "text/html": [
       "<div>\n",
       "<style scoped>\n",
       "    .dataframe tbody tr th:only-of-type {\n",
       "        vertical-align: middle;\n",
       "    }\n",
       "\n",
       "    .dataframe tbody tr th {\n",
       "        vertical-align: top;\n",
       "    }\n",
       "\n",
       "    .dataframe thead th {\n",
       "        text-align: right;\n",
       "    }\n",
       "</style>\n",
       "<table border=\"1\" class=\"dataframe\">\n",
       "  <thead>\n",
       "    <tr style=\"text-align: right;\">\n",
       "      <th></th>\n",
       "      <th>0</th>\n",
       "    </tr>\n",
       "  </thead>\n",
       "  <tbody>\n",
       "    <tr>\n",
       "      <th>Russia</th>\n",
       "      <td>0.030103</td>\n",
       "    </tr>\n",
       "    <tr>\n",
       "      <th>Cohen</th>\n",
       "      <td>0.022387</td>\n",
       "    </tr>\n",
       "    <tr>\n",
       "      <th>Corney</th>\n",
       "      <td>0.021937</td>\n",
       "    </tr>\n",
       "    <tr>\n",
       "      <th>Flynn</th>\n",
       "      <td>0.020361</td>\n",
       "    </tr>\n",
       "    <tr>\n",
       "      <th>United States</th>\n",
       "      <td>0.012180</td>\n",
       "    </tr>\n",
       "    <tr>\n",
       "      <th>Papadopoulos</th>\n",
       "      <td>0.011256</td>\n",
       "    </tr>\n",
       "    <tr>\n",
       "      <th>McGahn</th>\n",
       "      <td>0.011012</td>\n",
       "    </tr>\n",
       "    <tr>\n",
       "      <th>Manafort</th>\n",
       "      <td>0.009693</td>\n",
       "    </tr>\n",
       "    <tr>\n",
       "      <th>Clinton</th>\n",
       "      <td>0.009310</td>\n",
       "    </tr>\n",
       "    <tr>\n",
       "      <th>Trump</th>\n",
       "      <td>0.008640</td>\n",
       "    </tr>\n",
       "  </tbody>\n",
       "</table>\n",
       "</div>"
      ],
      "text/plain": [
       "                      0\n",
       "Russia         0.030103\n",
       "Cohen          0.022387\n",
       "Corney         0.021937\n",
       "Flynn          0.020361\n",
       "United States  0.012180\n",
       "Papadopoulos   0.011256\n",
       "McGahn         0.011012\n",
       "Manafort       0.009693\n",
       "Clinton        0.009310\n",
       "Trump          0.008640"
      ]
     },
     "execution_count": 21,
     "metadata": {},
     "output_type": "execute_result"
    }
   ],
   "source": [
    "pageRank.sort_values(0, ascending = False).head(10)"
   ]
  },
  {
   "cell_type": "code",
   "execution_count": 42,
   "metadata": {},
   "outputs": [],
   "source": [
    "def getFirstOrderGraph(graph, node):\n",
    "    nodes = []\n",
    "    [nodes.append(n) for n in graph.neighbors(node)]\n",
    "    nodes += [node]\n",
    "    subG = graph.subgraph(nodes)\n",
    "    print(f\"Nodes: {subG.number_of_nodes()}\")\n",
    "    print(f\"Edges: {subG.number_of_edges()}\")\n",
    "    print(f\"Self Loops: {subG.number_of_selfloops()}\")\n",
    "    return subG\n",
    "def getSecondOrderSubgraph(graph, node):\n",
    "    nodes = []\n",
    "    for neighbor_list in [graph.neighbors(n) for n in graph.neighbors(node)]:\n",
    "        for n in neighbor_list:\n",
    "            nodes.append(n)\n",
    "    nodes += [n for n in graph.neighbors(node)]\n",
    "    subG = graph.subgraph(nodes)\n",
    "    print(f\"Nodes: {subG.number_of_nodes()}\")\n",
    "    print(f\"Edges: {subG.number_of_edges()}\")\n",
    "    print(f\"Self Loops: {subG.number_of_selfloops()}\")\n",
    "    return subG"
   ]
  },
  {
   "cell_type": "code",
   "execution_count": 47,
   "metadata": {},
   "outputs": [
    {
     "name": "stdout",
     "output_type": "stream",
     "text": [
      "Nodes: 7\n",
      "Edges: 6\n",
      "Self Loops: 0\n"
     ]
    }
   ],
   "source": [
    "subGraph = getFirstOrderGraph(G,'par_259')\n",
    "pyvisG = Network(\"500px\", \"500px\")\n",
    "from_nx(pyvisG,subGraph)\n",
    "#pyvisG.show_buttons(filter_=['physics'])\n",
    "pyvisG.show('testSubgraph.html')\n",
    "#pyvisG.show('C:/Users/mj514/Documents/blogdownBlog/blog/content/page/test.html')"
   ]
  },
  {
   "cell_type": "code",
   "execution_count": 44,
   "metadata": {},
   "outputs": [
    {
     "data": {
      "text/plain": [
       "<networkx.classes.graphviews.SubGraph at 0x12c09a268d0>"
      ]
     },
     "execution_count": 44,
     "metadata": {},
     "output_type": "execute_result"
    }
   ],
   "source": [
    "subGraph"
   ]
  },
  {
   "cell_type": "code",
   "execution_count": 48,
   "metadata": {},
   "outputs": [
    {
     "data": {
      "text/plain": [
       "'the DNC hacking announcement to the June 9 OSC-KA V _00029 (6/14/16 Email, Goldstone to E. Agalarov & Kaveladze (10:09 a.m.)). The investigation did not identify evidence connecting the events of June 9 to the GRU\\'s hack-and-dump operation. OSC-KA V _00029-30 (6/14/16 Email, Goldstone to E. Agalarov). 746 747 Kaveladze 11/16/17 302, at 8; Call Records ofike. Kaveladze 748 Kaveladze 11/16/17 302, at 8; Call Records of Ike Kaveladze On June 14, 2016 Kaveladze\\'s teenage daughter emailed asking how the June 9 meeting had gone, and Kaveladze responded, \"meeting was boring. The Russians did not have an bad info on Hilar \" KA V _00257 (6/14/16 Email, I. Kaveladze to A. Kaveladze; 749 Goldstone 2/8/18 302, '"
      ]
     },
     "execution_count": 48,
     "metadata": {},
     "output_type": "execute_result"
    }
   ],
   "source": [
    "muellerParagraphs[259]"
   ]
  },
  {
   "cell_type": "markdown",
   "metadata": {},
   "source": [
    "# Node2Vec"
   ]
  },
  {
   "cell_type": "code",
   "execution_count": 81,
   "metadata": {},
   "outputs": [],
   "source": [
    "nxG = G\n",
    "\n",
    "startingNodes = nxG.nodes()\n",
    "numWalks = 100000\n",
    "\n",
    "walkLengths = np.random.normal(10, 3, numWalks).astype(int)\n",
    "walkLengths[walkLengths < 0] = 3 # has to do three walks\n",
    "\n",
    "walks = []\n",
    "for walkLen in walkLengths:\n",
    "    start = random.choice(list(startingNodes))\n",
    "    if nxG.degree(start) > 1: #Check if the starting node has neighbors\n",
    "        walk = [start]\n",
    "\n",
    "        for step in range(walkLen):\n",
    "            #print(f\"onNode: {walk}\")\n",
    "            paths = [n for n in nxG.neighbors(walk[-1])]\n",
    "            #print(paths)\n",
    "            walk.append(random.choice(paths))\n",
    "        walks.append(walk)"
   ]
  },
  {
   "cell_type": "code",
   "execution_count": 149,
   "metadata": {},
   "outputs": [
    {
     "data": {
      "text/html": [
       "\n",
       "        <iframe\n",
       "            width=\"500px\"\n",
       "            height=\"500px\"\n",
       "            src=\"randomWalk.html\"\n",
       "            frameborder=\"0\"\n",
       "            allowfullscreen\n",
       "        ></iframe>\n",
       "        "
      ],
      "text/plain": [
       "<IPython.lib.display.IFrame at 0x238e1fc54e0>"
      ]
     },
     "execution_count": 149,
     "metadata": {},
     "output_type": "execute_result"
    }
   ],
   "source": [
    "randomWalk = G.subgraph(walks[3])\n",
    "randomVis = Network(\"500px\", \"500px\", notebook=True)\n",
    "from_nx(randomVis,randomWalk)\n",
    "#pyvisG.show_buttons(filter_=['physics'])\n",
    "randomVis.show('randomWalk.html')"
   ]
  },
  {
   "cell_type": "code",
   "execution_count": 152,
   "metadata": {},
   "outputs": [
    {
     "data": {
      "text/html": [
       "\n",
       "        <iframe\n",
       "            width=\"500px\"\n",
       "            height=\"500px\"\n",
       "            src=\"randomWalk2.html\"\n",
       "            frameborder=\"0\"\n",
       "            allowfullscreen\n",
       "        ></iframe>\n",
       "        "
      ],
      "text/plain": [
       "<IPython.lib.display.IFrame at 0x238e1fc9e10>"
      ]
     },
     "execution_count": 152,
     "metadata": {},
     "output_type": "execute_result"
    }
   ],
   "source": [
    "randomWalk2 = G.subgraph(walks[6000])\n",
    "randomVis2 = Network(\"500px\", \"500px\", notebook=True)\n",
    "from_nx(randomVis2,randomWalk2)\n",
    "#pyvisG.show_buttons(filter_=['physics'])\n",
    "randomVis2.show('randomWalk2.html')"
   ]
  },
  {
   "cell_type": "code",
   "execution_count": 221,
   "metadata": {},
   "outputs": [],
   "source": [
    "from gensim.models import Word2Vec\n",
    "w2vModel = Word2Vec(walks, size=300, window=10, min_count=1, workers=16)"
   ]
  },
  {
   "cell_type": "code",
   "execution_count": 222,
   "metadata": {},
   "outputs": [
    {
     "data": {
      "text/plain": [
       "array([ 0.92456126,  0.9449051 , -0.94948184, -0.4889605 , -0.98223823,\n",
       "        0.8853492 , -0.11918477, -0.66409695, -0.12330315,  0.8563422 ,\n",
       "       -0.3176424 , -0.58984476,  0.05426842,  0.70515704, -0.6734733 ,\n",
       "       -0.3863421 , -0.4364722 , -0.3857968 ,  0.22750401,  0.0111002 ,\n",
       "       -0.13708027, -0.5119472 , -1.6217746 ,  0.29460165, -0.03582903,\n",
       "       -0.6424805 ,  0.10051477,  0.93095225,  1.2485225 ,  0.3563679 ,\n",
       "       -1.0603137 ,  0.7071692 , -0.07872218,  0.00490348,  0.17187384,\n",
       "        0.67104197, -0.83084995, -0.9543589 ,  0.21825725,  1.3602228 ,\n",
       "       -0.36175582,  0.11262723, -0.10977689,  0.10455734, -0.85053694,\n",
       "       -0.07955333, -0.46475342, -0.6362551 ,  0.43668327,  0.2287611 ,\n",
       "       -0.01633505,  0.29489136,  0.36975288, -0.19889747, -1.9386314 ,\n",
       "       -0.2866822 , -0.6811361 , -1.0950114 ,  0.74643904, -0.37689385,\n",
       "       -1.3955669 ,  0.19111334,  0.9709352 ,  0.23986061, -0.34570584,\n",
       "        0.19158393,  0.72093254, -0.6905862 , -0.23265459, -0.36413425,\n",
       "       -0.21840966, -0.6186702 , -0.60293436, -0.02176387,  0.6450039 ,\n",
       "        0.36259145,  0.42259926, -0.7186709 , -0.00468685,  0.70335066,\n",
       "       -0.54253143, -0.68391025,  0.13537036, -0.24240541,  0.5380549 ,\n",
       "       -0.8337509 , -0.3508339 , -0.07728162, -0.32734352,  0.522754  ,\n",
       "       -0.1475184 ,  0.07308813, -0.24470566, -0.44847432,  0.14138891,\n",
       "        0.22917874,  0.7134038 , -0.13588974, -0.3587864 ,  0.14648113,\n",
       "        0.23132421,  0.6532888 , -0.35769418, -0.74436414, -0.79742354,\n",
       "       -0.05456287,  0.73269814, -0.4730664 , -0.20601763,  0.5703627 ,\n",
       "       -0.54301983,  1.5865256 , -1.1871188 ,  0.05068892, -0.77883244,\n",
       "       -1.4315256 ,  0.3001175 ,  0.07785503, -0.15879402,  0.24580584,\n",
       "       -0.395999  , -1.0705866 , -0.08470281, -0.6878428 , -0.9707362 ,\n",
       "       -0.43487912,  1.441699  , -0.7122171 , -0.5152399 ,  0.92443144,\n",
       "        1.3006887 , -0.67501014, -0.57547057, -0.5337015 , -0.30303586,\n",
       "        0.09626705, -0.13399088, -0.20639344, -0.02563121, -0.94537216,\n",
       "        0.98793143,  0.6619288 ,  0.27830267, -1.065339  , -0.57701844,\n",
       "        0.6263351 ,  0.52439713,  0.63005084,  0.4378949 ,  0.6875148 ,\n",
       "        0.60183316, -0.6496699 ,  0.4871616 ,  0.3925556 , -0.50558555,\n",
       "       -0.63894624, -0.39795727, -0.15144771, -0.07834858, -0.19810751,\n",
       "       -0.13421431,  0.0378092 ,  1.2012787 , -0.17760165,  1.0359969 ,\n",
       "        0.6936103 , -1.1316468 ,  0.29103577,  0.76625186,  0.56214666,\n",
       "       -0.5817661 ,  0.95803183,  0.41967195,  0.8985973 , -0.7452221 ,\n",
       "       -0.62784463,  0.48229074,  0.6521247 , -0.04551732, -0.37516946,\n",
       "        0.38806668,  0.00392876, -1.350333  ,  0.90379006, -0.50358504,\n",
       "       -0.24400994,  0.7880761 , -0.78411245, -0.83256817,  0.03684761,\n",
       "       -0.08373917, -1.1178935 , -0.10411915,  0.9787868 , -0.71294105,\n",
       "       -1.6942817 , -1.0060428 ,  1.0410231 , -0.29550296,  0.41640115,\n",
       "        0.7440169 , -0.5914893 ,  0.635142  , -0.1539893 , -0.52407736,\n",
       "        0.4241335 ,  0.5873496 , -1.0897176 ,  1.1594435 ,  0.15980636,\n",
       "        0.33585465, -0.20880769, -0.09759004, -0.01304458,  0.31933215,\n",
       "       -0.05398739, -0.613072  ,  0.18156332, -0.2857596 ,  0.98880136,\n",
       "       -0.06329565,  0.20171405, -0.25847226, -0.04708166, -0.2977809 ,\n",
       "       -0.2617067 , -0.20518044,  0.50169975,  0.9139372 ,  1.4948384 ,\n",
       "       -0.4986021 , -1.5819442 ,  0.7516235 ,  0.87033254,  0.49132317,\n",
       "        0.23258926, -0.48175535, -0.6885598 ,  0.56240165, -0.10223898,\n",
       "       -0.06590115,  0.3032836 , -1.3225172 ,  0.27525166, -0.18756361,\n",
       "        1.8922092 , -0.12570235, -0.2897515 ,  0.39477727, -0.29431447,\n",
       "       -0.6659486 , -1.0167254 ,  0.4713262 ,  0.1345283 ,  0.43804055,\n",
       "        0.6081739 , -0.86363786,  0.69517124, -0.8448268 ,  0.45423603,\n",
       "        0.1277575 ,  0.78669834,  0.6324948 , -0.192028  , -0.6283431 ,\n",
       "        0.5524762 , -0.6204337 , -0.03799424,  1.0915904 , -1.0331482 ,\n",
       "       -1.0019479 ,  0.8881594 , -0.49990097, -0.05358559, -0.07335807,\n",
       "        0.07908095,  0.1346551 ,  0.65358126, -0.14254868,  0.04104898,\n",
       "        0.1699452 , -0.10912413, -0.39610168,  2.2852354 , -0.03529273,\n",
       "        0.15108801,  0.36859435, -0.34031224, -0.08959192, -0.4234177 ,\n",
       "        0.24994232,  0.05555987, -0.9186323 ,  0.4390796 ,  0.24781728,\n",
       "        0.15655339,  0.9836678 , -0.31306005, -0.15937702, -0.10178062],\n",
       "      dtype=float32)"
      ]
     },
     "execution_count": 222,
     "metadata": {},
     "output_type": "execute_result"
    }
   ],
   "source": [
    "w2vModel.wv['par_390']"
   ]
  },
  {
   "cell_type": "code",
   "execution_count": 223,
   "metadata": {},
   "outputs": [
    {
     "data": {
      "text/plain": [
       "[('par_189', 0.7216188311576843),\n",
       " ('par_25', 0.7195272445678711),\n",
       " ('par_190', 0.6681944131851196),\n",
       " ('Olga Polonskaya', 0.6547738909721375),\n",
       " ('Ivan Timofeev', 0.6297422051429749),\n",
       " ('par_194', 0.611091136932373),\n",
       " ('par_838', 0.5883481502532959),\n",
       " ('par_208', 0.5767848491668701),\n",
       " ('par_23', 0.5747522115707397),\n",
       " ('par_193', 0.5183202028274536)]"
      ]
     },
     "execution_count": 223,
     "metadata": {},
     "output_type": "execute_result"
    }
   ],
   "source": [
    "w2vModel.wv.most_similar('par_390')"
   ]
  },
  {
   "cell_type": "code",
   "execution_count": 224,
   "metadata": {},
   "outputs": [
    {
     "name": "stderr",
     "output_type": "stream",
     "text": [
      "DeprecationWarning: Call to deprecated `most_similar` (Method will be removed in 4.0.0, use self.wv.most_similar() instead). [ipykernel_launcher.py:1]\n"
     ]
    },
    {
     "data": {
      "text/plain": [
       "[('Virginia', 0.3910454511642456),\n",
       " ('Turkey', 0.3301968574523926),\n",
       " ('Concord', 0.3220016360282898),\n",
       " ('Transcript', 0.3180886507034302),\n",
       " ('Manafo1', 0.30232226848602295),\n",
       " ('par_356', 0.30222442746162415),\n",
       " ('Manafort', 0.30213433504104614),\n",
       " ('par_355', 0.30133575201034546),\n",
       " ('conspiracy', 0.2977093756198883),\n",
       " ('par_890', 0.2973538637161255)]"
      ]
     },
     "execution_count": 224,
     "metadata": {},
     "output_type": "execute_result"
    }
   ],
   "source": [
    "w2vModel.most_similar(positive=['Russia', 'the District of Columbia'], negative=['Moscow'])"
   ]
  },
  {
   "cell_type": "code",
   "execution_count": 219,
   "metadata": {},
   "outputs": [
    {
     "name": "stderr",
     "output_type": "stream",
     "text": [
      "DeprecationWarning: Call to deprecated `most_similar` (Method will be removed in 4.0.0, use self.wv.most_similar() instead). [ipykernel_launcher.py:1]\n"
     ]
    },
    {
     "data": {
      "text/plain": [
       "[('conspiracy', 0.5141558647155762),\n",
       " ('Kilimnik', 0.3893536627292633),\n",
       " ('Ukraine', 0.378567099571228),\n",
       " ('social media', 0.37721455097198486),\n",
       " ('Carter Page', 0.36491039395332336),\n",
       " ('par_367', 0.3607674539089203),\n",
       " ('hacking', 0.3286607563495636),\n",
       " ('Oleg Deripaska', 0.3231571316719055),\n",
       " ('the District of Columbia', 0.3220616579055786),\n",
       " ('Flynn', 0.31990569829940796)]"
      ]
     },
     "execution_count": 219,
     "metadata": {},
     "output_type": "execute_result"
    }
   ],
   "source": [
    "w2vModel.most_similar(positive=['Russia', 'the United States'], negative=['Putin'])"
   ]
  },
  {
   "cell_type": "code",
   "execution_count": 92,
   "metadata": {},
   "outputs": [
    {
     "data": {
      "text/plain": [
       "[('par_25', 0.7742655277252197),\n",
       " ('Olga Polonskaya', 0.7491888999938965),\n",
       " ('par_189', 0.7278563976287842),\n",
       " ('par_190', 0.661663293838501),\n",
       " ('Ivan Timofeev', 0.6461209058761597),\n",
       " ('par_208', 0.6244201064109802),\n",
       " ('par_23', 0.6139870882034302),\n",
       " ('par_194', 0.6036626696586609),\n",
       " ('par_94', 0.5973951816558838),\n",
       " ('par_838', 0.5720088481903076)]"
      ]
     },
     "execution_count": 92,
     "metadata": {},
     "output_type": "execute_result"
    }
   ],
   "source": [
    "w2vModel.wv.most_similar('par_390')"
   ]
  },
  {
   "cell_type": "code",
   "execution_count": 61,
   "metadata": {},
   "outputs": [
    {
     "data": {
      "text/plain": [
       "'Campaign through the anonymous release of information damaging to candidate Clinton. On January 27, 2017, Papadopoulos agreed to be interviewed by FBI agents, who informed him that the interview was part of the investigation into potential Russian government interference in the 2016 presidential election. During the interview, Papadopoulos lied about the timing, extent, and nature of his communications with Joseph Mifsud, Olga Polonskaya, and Ivan Timofeev. With respect to timing, Papadopoulos acknowledged that he had met Mifsud and that Mifsud told him the Russians had \"dirt\" on Clinton in the form of \"thousands of emails.\" But Papadopoulos stated multiple times that those communications occurred before he joined the Trump Campaign and that it was a \"very strange coincidence\" to be told of the \"dirt\" before he started working for the Campaign. This account was false. Papadopoulos met Mifsud for the first time on approximately March 14, 2016, after Papadopoulos had already learned he would be a foreign policy advisor for the Campaign. Mifsud showed interest in Papadopoulos only after learning of his role on the Campaign. And Mifsud told Papadopoulos about the Russians possessing \"dirt\" on candidate Clinton in late April 2016, more than a month after Papadopoulos had joined the Campaign and 192 '"
      ]
     },
     "execution_count": 61,
     "metadata": {},
     "output_type": "execute_result"
    }
   ],
   "source": [
    "muellerParagraphs[390]"
   ]
  },
  {
   "cell_type": "code",
   "execution_count": 93,
   "metadata": {},
   "outputs": [
    {
     "data": {
      "text/plain": [
       "'U.S. Department of Justice Atief\\'Hey \\\\l/erk Pretittet // Ma;· CeHtaiH Material Preteeteti UHtier Fed. R. CFiffl. P. 6(e) 2016 to early October 2016.394 In late April 2016, Papadopoulos was told by London-based professor Joseph Mifsud, immediately after Mifsud\\'s return from a trip to Moscow, that the Russian government had obtained \"dirt\" on candidate Clinton in the form of thousands of emails. One week later, on May 6, 2016, Papadopoulos suggested to a representative of a foreign government that the Trump Campaign had received indications from the Russian government that it could assist the Campaign through the anonymous release of information that would be damaging to candidate Clinton. Papadopoulos shared information about Russian \"dirt\" with people outside of the Campaign, and the Office investigated whether he also provided it to a Campaign official. Papadopoulos and the Campaign officials with whom he interacted told the Office that they did · not recall that Papadopoulos passed them the information. Throughout the relevant period of time and for several months thereafter, Papadopoulos worked with Mifsud and two Russian nationals to arrange a meeting between the Campaign and the Russian government. That meeting never came to pass. a. Origins of Campaign Work In March 2016, Papadopoulos became a foreign policy advisor to the Trump Campaign.395 As early as the summer of 2015, he had sought a role as a policy advisor to the Campaign but, in a September 30, 2015 email, he was told that the Campaign was not hiring policy advisors.396 In late 2015, Papadopoulos obtained a paid position on the campaign of Republican presidential candidate Ben Carson. 397 Although Carson remained in the presidential race until early March 20 I 6, Papadopoulos had stopped actively working for his campaign by early February 2016.398 At that time, Papadopoulos reached out to a contact at the London Centre of International Law Practice (LCILP), which billed itself as a \"unique institution . . . '"
      ]
     },
     "execution_count": 93,
     "metadata": {},
     "output_type": "execute_result"
    }
   ],
   "source": [
    "muellerParagraphs[189]"
   ]
  },
  {
   "cell_type": "code",
   "execution_count": 186,
   "metadata": {},
   "outputs": [],
   "source": [
    "paragraphDF = pd.DataFrame({'text':muellerParagraphs,'paragraph':[f'par_{num}' for num in range(len(muellerParagraphs))]})"
   ]
  },
  {
   "cell_type": "code",
   "execution_count": 194,
   "metadata": {},
   "outputs": [],
   "source": [
    "par = 'par_390'\n",
    "\n",
    "def showMoreLikeThis(par):\n",
    "    mostSimilar = w2vModel.wv.most_similar(par, topn=20)\n",
    "\n",
    "    mostSimilarParagraphs = [simTuple for simTuple in mostSimilar if simTuple[0].startswith('par')]\n",
    "    similarDF = pd.DataFrame(mostSimilarParagraphs, columns=['paragraph','similarity'])\n",
    "    showDF = similarDF.merge(paragraphDF, on = 'paragraph')\n",
    "    pd.options.display.max_colwidth = -1\n",
    "    return showDF"
   ]
  },
  {
   "cell_type": "code",
   "execution_count": 220,
   "metadata": {},
   "outputs": [
    {
     "data": {
      "text/html": [
       "<div>\n",
       "<style scoped>\n",
       "    .dataframe tbody tr th:only-of-type {\n",
       "        vertical-align: middle;\n",
       "    }\n",
       "\n",
       "    .dataframe tbody tr th {\n",
       "        vertical-align: top;\n",
       "    }\n",
       "\n",
       "    .dataframe thead th {\n",
       "        text-align: right;\n",
       "    }\n",
       "</style>\n",
       "<table border=\"1\" class=\"dataframe\">\n",
       "  <thead>\n",
       "    <tr style=\"text-align: right;\">\n",
       "      <th></th>\n",
       "      <th>paragraph</th>\n",
       "      <th>similarity</th>\n",
       "      <th>text</th>\n",
       "    </tr>\n",
       "  </thead>\n",
       "  <tbody>\n",
       "    <tr>\n",
       "      <th>0</th>\n",
       "      <td>par_17</td>\n",
       "      <td>0.741251</td>\n",
       "      <td>statements about the results of our investigation and the Special Counsel's charging decisions, and we then provide an overview of the two volumes of our report. The report describes actions and events that the Special Counsel's Office found to be supp01ted by the evidence collected in our investigation. In some instances, the report points out the absence of evidence or conflicts in the evidence about a particular fact or event. In other instances, when substantial, credible evidence enabled the Office to reach a conclusion with confidence, the report states that the investigation established that certain actions or events occurred. A statement that the investigation did not establish particular facts does not mean there was no evidence of those facts. In evaluating whether evidence about collective action of multiple individuals constituted a crime, we applied the framework of conspiracy law, not the concept of \"collusion.\" In so doing, the Office recognized that the word \"collud[ e ]\" was used in communications with the Acting Attorney General confirming certain aspects of the investigation's scope and that the term has frequently been invoked in public reporting about the investigation. But collusion is not a specific offense or theory of liability found in the United States Code, nor is it a term of art in federal criminal law. For those reasons, the Office's focus in analyzing questions of joint criminal liability was on conspiracy as defined in federal law. In connection with that analysis, we addressed the factual question whether members of the Trump Campaign \"coordinat[ ed]\"-a term that appears in the appointment order-with Russian election interference activities. Like collusion, \"coordination\" does not have a settled definition in federal criminal law. We understood coordination to require an agreement-tacit or express-between the Trump Campaign and the Russian government on election interference. That requires more than the two parties taking actions that were informed by or responsive to the other's actions or interests. We applied the term coordination in that sense when stating in the report that the investigation did not establish that the Trump Campaign coordinated with the Russian government in its election interference activities. * * *</td>\n",
       "    </tr>\n",
       "    <tr>\n",
       "      <th>1</th>\n",
       "      <td>par_594</td>\n",
       "      <td>0.707229</td>\n",
       "      <td>.m., the President called McGahn on McGahn' s personal cell phone and they spoke for about l 5 minutes.564 McGahn did not have a clear memory of the call but thought they might have discussed the stories reporting that the President was under investigation.565 Beginning early the next day, June 15, 2017, the President issued a series of tweets acknowledging the existence of the obstruction investigation and criticizing it. He wrote: \"They made up a phony collusion with the Russians story, found zero proof, so now they go for obstruction of justice on the phony story. Nice\";566 \"You are witnessing the single greatest WITCH HUNT in American political history-led by some very bad and conflicted people!\";567 and \"Crooked H destroyed phones w/ hammer, 'bleached' emails, &amp; had husband meet w/AG days 560 Special Counsel's Office Attorney 6/15/17 Notes. 561 Devlin Barrett et al., Special counsel is investigating Trump for possible obstruction of justice, officials say, Washington Post (June 14, 2017). 562 CNN, for example, began running a chyron at 6:55 p.m. that stated: \"WASH POST: MUELLER INVESTIGATING TRUMP FOR OBSTRUCTION OF JUSTICE.\" CNN, (June 14, 2017, published online at 7: 15 p.m. ET). 563 Devlin Barrett et al., Special counsel is investigating Trump for possible obstruction of justice, officials say, Washington Post (June 14, 2017). 564 SCR026_000183 (President's Daily Diary, 6/14/17) (reflecting call from the President to McGahn on 6/14/17 with start time 10:31 p.m. and end time 10:46 p.m.); Call Records of Don McGahn. 565 McGahn 2/28/ 19 302, at 1-2. McGahn thought he and the President also probably talked about the investiture ceremony for Supreme Court Justice Neil Gorsuch, which was scheduled for the following day. McGahn 2/28/18 302, at 2. 566 @rea!DonaldTrump 6/15/ l 7 (6:55 a.m. ET) Tweet. 567 @realDonaldTrump 6/15/17 (7:57 a.m. ET) Tweet. 84</td>\n",
       "    </tr>\n",
       "    <tr>\n",
       "      <th>2</th>\n",
       "      <td>par_365</td>\n",
       "      <td>0.667008</td>\n",
       "      <td>U.S. Department of Justice A:t:1:erttey Werk Predttet // Mtt;s CetttttiH Mttterittl Preteeted Uttder Fed. R. Crim. P. 6(e) (1897) (\"An agreement between two or more persons to defraud a person of his rights by the forms of law, or to obtain an object forbidden by law.\"). For that reason, this Office's focus in resolving the question of joint criminal liability was on conspiracy as defined in federal law, not the commonly discussed term \"collusion.\" The Office considered in particular whether contacts between Trump Campaign officials and Russia-linked individuals could trigger liability for the crime of conspiracy-either under statutes that have their own conspiracy language (e.g., 18 U.S.C. §§ 1349, 195l(a)), or under the general conspiracy statute (18 U.S.C. § 371). The investigation did not establish that the contacts described in Volume I, Section IV, supra, amounted to an agreement to commit any substantive violation of federal criminal law-including foreign-fnfluence and campaign-finance laws, both of which are discussed further below. The Office therefore did not charge any individual associated with the Trump Campaign with conspiracy to commit a federal offense arising from Russia contacts, either under a specific statute or under Section 371 's offenses clause. The Office also did not charge any campaign official or associate with a conspiracy under Section 371 's defraud clause. That clause criminalizes participating in an agreement to obstruct a lawful function</td>\n",
       "    </tr>\n",
       "    <tr>\n",
       "      <th>3</th>\n",
       "      <td>par_595</td>\n",
       "      <td>0.654613</td>\n",
       "      <td>U.S. Department of Justice Attemey Werk Predttct // May Cefl:taifl: Material Prntcctcd Ufl:der Fed. R. Crim. P. 6(e) before she was cleared-&amp; they talk about obstruction?\"568 The next day, June 16, 2017, the President wrote additional tweets criticizing the investigation: \"After 7 months of investigations &amp; committee hearings about my 'collusion with the Russians,' nobody has been able to show any proof. Sad!\";569 and \"I am being investigated for firing the FBI Director by the man who told me to fire the FBI Director! Witch Hunt.\"570 On Saturday, June 17, 2017, the President called McGahn and directed him to have the Special Counsel removed.571 McGahn was at home and the President was at Camp David.572 In interviews with this Office, McGahn recalled that the President called him at home twice and on both occasions directed him to call Rosenstein and say that Mueller had conflicts that precluded him from serving as Special Counsel.573 On the first call, McGahn recalled that the President said something like, \"You gotta do this. You gotta call Rod.\"574 McGahn said he told the President that he would see what he could do.575 McGahn was perturbed by the call and did not intend to act on the request.576 He and other advisors believed the asserted conflicts were \"silly\" and \"not real,\" and they had previously communicated that view to the President.577 McGahn also had made clear to the President that the White House Counsel's Office should not be involved in any effort to press the issue of conflicts.578 McGahn was concerned about having any role in asking the Acting Attorney General to fire the Special Counsel because he had grown up in the Reagan era and wanted to be more like Judge 568 @realDonaldTrump 6/15/17 (3:56 p.m. ET) Tweet. 569 @rea!DonaldTrump 6/16/17 (7:53 a.m. ET) Tweet. 570 @realDonaldTrump 6/16/17 (9:07 a.m. ET) Tweet. 571 McGahn 3/8/18 302, at 1-2; McGahn 12/14/17 302, at 10. 572 McGahn 3/8/18 302, at I, 3; SCR026_000196 (President's Daily Diary, 6/17/17) (records showing President departed the White House at 11 :07 a.m. on June 17, 2017, and arrived at Camp David at 11 :37 a.m.). 573 McGahn 3/8/ l 8 302, at 1-2; McGahn 12/14/ 17 302, at I 0. Phone records show that the President called McGahn in the afternoon on June 17, 2017, and they spoke for approximately 23 minutes. SCR026_000196 (President's Daily Diary, 6/17/17) (reflecting call from the President to McGahn on 6/17/17 with start time 2:23 p.m. and end time 2:46 p.m.); (Call Records of Don McGahn). Phone records do not show another call between McGahn and the President that day. Although McGahn recalled receiving multiple calls from the President on the same day, in light of the phone records he thought it was possible that the first call instead occurred on June 14, 2</td>\n",
       "    </tr>\n",
       "    <tr>\n",
       "      <th>4</th>\n",
       "      <td>par_521</td>\n",
       "      <td>0.642965</td>\n",
       "      <td>U.S. Department of Justice At:tort1ey Work Proattet II May Cot1tait1 Material Proteetea Ut1aer Fee. R. Crim. P. 6(e) Press reports following Corney's March 20 testimony suggested that the FBI was investigating the President, contrary to what Corney had told the President at the end of the January 6, 2017 intelligence assessment briefing.321 McGahn, Donaldson, and senior advisor Stephen Miller recalled that the President was upset with Corney's testimony and the press coverage that followed because of the suggestion that the President was under investigation.322 Notes from the White House Counsel's Office dated March 21, 2017, indicate that the President was \"beside himself' over Corney's testimony.323 The President called McGahn repeatedly that day to ask him to intervene with the Department of Justice, and, according to the notes, the President was \"getting hotter and hotter, get rid?\"324 Officials in the White House Counsel's Office became so concerned that the President would fire Corney that they began drafting a memorandum that examined whether the President needed cause to terminate the FBI director.325 At the President's urging, McGahn contacted Boente several times on March 21, 2017, to seek Boente's assistance in having Corney or the Department of Justice correct the misperception that the President was under investigation.326 Boente did not specifically recall the conversations, although he did remember one conversation with McGahn around this time where McGahn asked if there was a way to speed up or end the Russia investigation as quickly as possible.327 Boente said McGahn told him the President was under a cloud and it made it hard for him to govern.328 Boente recalled telling McGahn that there was no good way to shorten the investigation and attempting to do so could erode confidence in the investigation's conclusions.329 Boente said McGahn agreed and dropped the issue.330 The President also sought to speak with Boente directly, but McGahn told the President that Boente did not want to talk to the President about the request 321 E.g., Matt Apuzzo et al., F.B.I. ls Investigating Trump's Russia Ties, Corney Confirms, New York Times (Mar. 20, 20 I 7); Andy Greenberg. The FBI Has Been Investigating Trump's Russia Ties Since July, Wired (Mar. 20, 2017); Julie Borger &amp; Spencer Ackerman, Trump-Russia collusion is being investigated by FBI, Corney confirms, Guardian (Mar. 20, 2017); see Corney 1/6/17 Memorandum, at 2. 322 Donaldson 11/6/17 302, at 16-17; S. Miller I 0/31/17 302, at 4; McGahn 12/12/17 302, at 5-7. 323 SC_AD_00213 (Donaldson 3/21/17 Notes). The notes from that day also indicate that the President referred to the \"Corney bombshell\" which \"made [him] look like a fool.\" SC_AD_00206 (Donaldson 3/21/17 Notes). 324 SC_AD_00210 (Donaldson 3/21/17 Notes). 325 SCR0l6_000002-05 (White House Counsel's Office Memorandum). White House Counsel's Office attorney Uttam Dhillon did not recall a triggering event causing the White House Counsel's Office to begin this research. Dhmon I 1/21/17 302, at 5. Metadata from the document, which was provided by the White House, establishes that it was created on March 21, 2017. 326 Donaldson 11/6/17 302, at 16-21; McGahn 12/12/17 302, at 5-7. 327 Boente 1/31/18 302, at 5. 328 Boente 1/31 /I 8 302, at 5. 329 Boente 1/31/18 302, at 5. 330 Boente 1/31/18 302, at 5. 54</td>\n",
       "    </tr>\n",
       "    <tr>\n",
       "      <th>5</th>\n",
       "      <td>par_650</td>\n",
       "      <td>0.570574</td>\n",
       "      <td>U.S. Department of Justice Ai:tarttey Wark P1Łaettet // Mtty Catttttitt Material Pwteetee Utteer Fee. R. Crim. P. e(e) tweeted, \"The Russian Witch Hunt Hoax continues, all because Jeff Sessions didn't tell me he was going to recuse himself. ... I would have quickly picked someone else. So much time and money wasted, so many lives ruined ... and Sessions knew better than most that there was No Collusion!\"769 On August 1, 2018, the President tweeted that '\"Attorney General Jeff Sessions should stop this Rigged Witch Hunt right now.\"770 On August 23, 2018, the President publicly criticized Sessions in a press interview and suggested that prosecutions at the Department of Justice were politically motivated because Paul Manafo11 had been prosecuted but Democrats had not.771 The President said, \"I put in an Attorney General that never took control of the Justice Department, JeffSessions.\"772 That day, Sessions issued a press statement that said, \"I took control of the Department of Justice the day I was sworn in .... While I am Attorney General, the actions of the Department of Justice will not be improperly influenced by political considerations.\"773 The next day, the President tweeted a response: '\"Department of Justice will not be improperly influenced by political considerations.' Jeff, this is GREAT, what everyone wants, so look into all of the corruption on the 'other side' including deleted Emails, Corney lies &amp; leaks, Mueller conflicts, McCabe, Strzok, Page, Ohr, FISA abuse, Christopher Steele &amp; his phony and corrupt Dossier, the Clinton Foundation, illegal surveillance of Trump campaign, Russian collusion by Dems -and so much more. Open up the papers &amp; documents without redaction? Come on Jeff, you can do it, the country is waiting!\"774 On November 7, 2018, the day after the midterm elections, the President replaced Sessions with Sessions's chief of staff as Acting Attorney General.775 Analysis In analyzing the President's efforts to have Sessions unrecuse himself and regain control of the Russia investigation, the following considerations and evidence are relevant to the elements of obstruction of justice: a. Obstructive act. To determine if the President's effo11s to have the Attorney General unrecuse could qualify as an obstructive act, it would be necessary to assess evidence on whether those actions would naturally impede the Russia investigation. That inquiry would take into account the supervisory role that the Attorney General, if unrecused, would play in the Russia investigation. It also would have to take into account that the Attorney General's recusal covered (\"Jeff Sessions should be ashamed of himself for allowing this total HOAX to get started in the first place!\"). 769 @realDonaldTrump 6/5/18 (7:31 a.m. ET) Tweet. 770 @realDonaldTrump 8/1 /18 (9:24 a.m. ET) Tweet. 771 Fox &amp; Friends Interview of President Trump, Fox News (Aug. 23, 2018). 772 Fox &amp; Friends Interview of President Trump, Fox News (Aug. 23, 2018). 773 Sessions 8/23/18 Press Statement. 774 @real Donald Trump 8/24/18 (6: 17 a.m. ET) Tweet;@ realDonaldTrump 8/24/18 (6:28 a.m. ET) Tweet. 775 @realDonaldTrump 11/7/18 (2:44 p.m. ET) Tweet. I 11</td>\n",
       "    </tr>\n",
       "    <tr>\n",
       "      <th>6</th>\n",
       "      <td>par_574</td>\n",
       "      <td>0.565367</td>\n",
       "      <td>U.S. Department of Justice Attenatey Werk Preattet // May CeAte:iA Material Pt'eteetea UAaer Fea. R. Criffi. P. 6(e) after being sworn in.495 Late in the morning of May 12, 2017, the President tweeted, \"Again, the story that there was collusion between the Russians &amp; Trump campaign was fabricated by Dems as an excuse for losing the election.\"496 The President also tweeted, \"James Corney better hope that there are no 'tapes' of our conversations before he starts leaking to the press!\" and \"When James Clapper himself, and virtually everyone else with knowledge of the witch hunt, says there is no collusion, when does it end?\"497 Analysis In analyzing the President's decision to fire Corney, the following evidence is relevant to the elements of obstruction of justice: a. Obstructive act. The act of firing Corney removed the individual overseeing the FBI's Russia investigation. The President knew that Corney was personally involved in the investigation based on Corney's briefing of the Gang of Eight, Corney's March 20, 2017 public testimony about the investigation, and the President's one-on-one conversations with Corney. Firing Corney would qualify as an obstructive act if it had the natural and probable effect of interfering with or impeding the investigation-for example, if the termination would have the effect of delaying or disrupting the investigation or providing the President with the opportunity to appoint a director who would take a different approach to the investigation that the President perceived as more protective of his personal interests. Relevant circumstances bearing on that issue include whether the President's actions had the potential to discourage a successor director or other law enforcement officials in their conduct of the Russia investigation. The President fired Corney abruptly without offering him an opportunity to resign, banned him from the FBI building, and criticized him publicly, calling him a \"showboat\" and claiming that the FBI was \"in turmoil\" under his leadership. And the President followed the termination with public statements that were highly critical of the investigation; for example, three days after firing Corney, the President referred to the investigation as a \"witch hunt\" and asked, \"when does it end?\" Those actions had the potential to affect a successor director's conduct of the investigation. The anticipated effect of removing the FBI director, however, would not necessarily be to prevent or impede the FBI from continuing its investigation. As a general matter, FBI investigations run under the operational direction of FBI personnel levels below the FBI director. Bannon made a similar point when he told the President that he could fire the FBI director, but could not fire the FBI. The White House issued a press statement the day after Corney was fired that said, \"The investigation would have always continued, and obviously, the termination of Corney would not have ended it.\" Tn addition, in his May 11 interview with Lester Holt, the President stated that he understood when he made the decision to fire Corney that the action might prolong the investigation. And the President chose McCabe to serve as interim director, e</td>\n",
       "    </tr>\n",
       "    <tr>\n",
       "      <th>7</th>\n",
       "      <td>par_364</td>\n",
       "      <td>0.541775</td>\n",
       "      <td>U.S. Department of Justice Atterney Werk Predttet // May CeHtain Material Preteeted Under Fee. R:. Criffl. P. 6(e) C. Russian Government Outreach and Contacts As explained in Section IV above, the Office's investigation uncovered evidence of numerous links (i.e., contacts) between Trump Campaign officials and individuals having or claiming to have ties to the Russian government. The Office evaluated the contacts under several sets of federal laws, including conspiracy laws and statutes governing foreign agents who operate in the United States. After considering the available evidence, the Office did not pursue charges under these statutes against any of the individuals discussed in Section IV above-with the exception of FARA charges against Paul Manafort and Richard Gates based on their activities on behalf of Ukraine. One of the interactions between the Trump Campaign and Russian-affiliated the June 9, 2016 meeting between high-ranking campaign officials and Russians promising derogatory information on Hillary Clinton-implicates an additional body of law: campaignfinance statutes. Schemes involving the solicitation or receipt of assistance from foreign sources raise difficult statutory and constitutional questions. As ex lained below, the Office evaluated those questions in connection with the June 9 meeting The Office ultimately concluded that, even if the principal legal questions were resolved favorably to the government, a prosecution would encounter difficulties proving that Campaign officials or individuals connected to the Campaign willfully violated the law. Finally, although the evidence of contacts between Campaign officials and Russiaaffiliated individuals may not have been sufficient to establish or sustain criminal charges, several U.S. persons connected to the Campaign made false statements about those contacts and took other steps to obstruct the Office's investigation and those of Congress. This Office has therefore charged some of those individuals with making false statements and obstructing justice. 1. Potential Coordination: Conspiracy and Collusion As an initial matter, this Office evaluated potentially criminal conduct that involved the collective action of multiple individuals not under the rubric of \"collusion,\" but through the lens of conspiracy law. In so doing, the Office recognized that the word \"collud[ e ]\" appears in the Acting Attorney General's August 2, 2017 memorandum; it has frequently been invoked in public reporting; and it is sometimes referenced in antitrust law, see, e.g., Brooke Group v. Brown &amp; Williamson Tobacco Corp., 509 U.S. 209, 227 (1993). But collusion is not a specific offense or theory of liability found in the U.S. Code; nor is it a term of art in federal criminal law. To the contrary, even as defined in legal dictionaries, collusion is largely synonymous with conspiracy as that crime is set forth in the general federal conspiracy statute, 18 U.S.C. § 371. See Black's Law Dictionary 321 (10th ed. 2014) (collusion is \"[a]n agreement to defraud another or to do or obtain something forbidden by law\"); 1 Alexander Burrill, A Law Dictionary and Glossary 311 (1871) (\"An agreement between two or more persons to defraud another by the forms of law, or to employ such forms as means of accomplishing some unlawful object.\"); 1 Bouvier's Law Dictionary 352 180</td>\n",
       "    </tr>\n",
       "    <tr>\n",
       "      <th>8</th>\n",
       "      <td>par_526</td>\n",
       "      <td>0.531148</td>\n",
       "      <td>U.S. Department of Justice AlterHe:,· Werle Predttet // May CeHtaiH Material Preteeted Ut1der Fed. R. Crim.. P. 6(e) investigation itself.353 Rogers later testified in a congressional hearing that as NSA Director he had \"never been directed to do anything [he] believe[d] to be illegal, immoral, unethical or inappropriate\" and did \"not recall ever feeling pressured to do so.\"354 In addition to the specific comments made to Coats, Pompeo, and Rogers, the President spoke on other occasions in the presence of intelligence community officials about the Russia investigation and stated that it interfered with his ability to conduct foreign relations.355 On at least two occasions, the President began Presidential Daily Briefings by stating that there was no collusion with Russia and he hoped a press statement to that effect could be issued.356 Pompeo recalled that the President vented about the investigation on multiple occasions, complaining that there was no evidence against him and that nobody would publicly defend him.357 Rogers recalled a private conversation with the President in which he \"vent[ ed]\" about the investigation, said he had done nothing wrong, and said something like the \"Russia thing has got to go away.\"358 Coats recalled the President bringing up the Russia investigation several times, and Coats said he finally told the President that Coats's job was to_ provide intelligence and not get involved in investigations. 359 4. The President Asks Corney to \"Lift the Cloud\" Created by the Russia Investigation On the morning of March 30, 2017, the President reached out to Corney directly about the Russia investigation.360 According to Corney's contemporaneous record of the conversation, the President said \"he was trying to run the country and the cloud of this Russia business was making 353 Rogers 6/12/17 302, at 5; Ledgett 6/13/17 302, at 2. 354 Hearing on Foreign Intelligence Surveillance Act Before the Senate Select Intelligence Committee, 115th Cong. (June 7, 2017) (CQ Cong. Transcripts, at 20) (testimony by Admiral Michael Rogers, Director of the National Security Agency). 355 Gistaro 6/14/17 302, at I, 3; Pompeo 6/28/17 302, at 2-3. 356 Gistaro 6/ 14/ l 7 302, at I. 357 Pompeo 6/28/17 302, at 2. 358 Rogers 6/12/17 302, at 6. 359 Coats 6/14/17 302, at 3-4. 360 SCRO l 2b_000044 (President's Daily Diary, 3/30/17, reflecting call to Corney from 8: 14 -8:24 a.m.); Corney 3/30/17 Memorandum, at 1 (\"The President called me on my CMS phone at 8: 13 am today . . . . The call lasted I I</td>\n",
       "    </tr>\n",
       "    <tr>\n",
       "      <th>9</th>\n",
       "      <td>par_684</td>\n",
       "      <td>0.483133</td>\n",
       "      <td>U.S. Department of Justice Attorf!e::,· '.Vork Proe1:1et // May Cof!taifl Material Proteetee Urtt:ler Fet:I. R. Crim. P. 6(e) here. Doesn't mean that anybody should rely on it. ... Big signal is, nobody has been pardoned yet. ,,s61 On July 31, 2018, Manafort's criminal trial began in the Eastern District of Virginia, generating substantial news coverage.862 The next day, the President tweeted, \"This is a terrible situation and Attorney General Jeff Sessions should stop this Rigged Witch Hunt right now, before it continues to stain our country any further. Bob Mueller is totally conflicted, and his 17 Angry Democrats that are doing his dirty work are a disgrace to USA!\"863 Minutes later, the President tweeted, \"Paul Manafort worked for Ronald Reagan, Bob Dole and many other highly prominent and respected political leaders. He worked for me for a very short time. Why didn't government tell me that he was under investigation. These old charges have nothing to do with Collusion-a Hoax!\"864 Later in the day, the President tweeted, \"Looking back on history, who was treated worse, Alfonse Capone, legendary mob boss, killer and 'Public Enemy Number One,' or Paul Manafort, political operative &amp; Reagan/Dole darling, now serving solitary confinement-although convicted of nothing? Where is the Russian Collusion?\"865 The President's tweets about the Manafort trial were widely covered by the press.866 When asked about the President's tweets, Sanders told the press, \"Certainly, the President's been clear. He thinks Paul Manafort's been treated unfairly.\"867 On August 16, 2018, the Manafort case was submitted to the jury and deliberations began. At that time, Giuliani had recently suggested to reporters that the Special Counsel investigation needed to be \"done in the next two or three weeks,\"868 and media stories reported that a Manafort acquittal would add to criticism that the Special Counsel investigation was not worth the time and expense, whereas a conviction could show that ending the investigation would be premature.869 861 State of the Union with Jake Tapper Transcript, CNN (June 17, 2018). 862 See, e.g., Katelyn Polantz, Takeaways from day one of the Paul Manafort trial, CNN (July 31, 2018); Frank Bruni, Paul Manafort 's Trial Is Donald Trump's, Too, New York Times Opinion (July 31, 2018); Rachel Weiner et al., Paul Manafort trial Day 2: Witnesses describe extravagant clothing purchases, home remodels, lavish cars paid with wire transfers, Washington Post (Aug. 1, 2018). 863 @realDonaldTrump 8/1/18 (9:24 a.m. ET) Tweet. Later that day, when Sanders was asked about the President's tweet, she told reporters, \"It's not an order. It's the President's opinion.\" Sarah Sanders, White House Daily Briefing, C-SPAN (Aug. 1, 2018). 864 @realDonaldTrump 8/1/18 (9:34 a.m. ET) Tweet. 865 @realDonaldTrump 8/1/18 (11 :35 a.m. ET) Tweet. 866 See, e.g., Carol D. Leonnig et al., Trump calls Manafort prosecution \"a hoax,\" says Sessions should stop Mueller investigation \"right now\", Washington Post (Aug. 1, 2018); Louis Nelson, Trump claims Manafort case has \"nothing to do with collusion\", Politico (Aug. I. 2018). 867 Sarah Sanders, White House Daily Briefing, C-SPAN (Aug. 1, 2018). 868 Chris Strohm &amp; Shannon Pettypiece, Mueller Probe Doesn't Need to Shut Down Before Midterms, Officials Say, Bloomberg (Aug. 15, 2018). 869 See, e.g., Katelyn Polantz et al., Manafort jury ends first day of deliberations without a v</td>\n",
       "    </tr>\n",
       "  </tbody>\n",
       "</table>\n",
       "</div>"
      ],
      "text/plain": [
       "  paragraph  similarity  \\\n",
       "0  par_17    0.741251     \n",
       "1  par_594   0.707229     \n",
       "2  par_365   0.667008     \n",
       "3  par_595   0.654613     \n",
       "4  par_521   0.642965     \n",
       "5  par_650   0.570574     \n",
       "6  par_574   0.565367     \n",
       "7  par_364   0.541775     \n",
       "8  par_526   0.531148     \n",
       "9  par_684   0.483133     \n",
       "\n",
       "                                                                                                                                                                                                                                                                                                                                                                                                                                                                                                                                                                                                                                                                                                                                                                                                                                                                                                                                                                                                                                                                                                                                                                                                                                                                                                                                                                                                                                                                                                                                                                                                                                                                                                                                                                                                                                                                                                                                                                                                                                                                                                                                                                                                                                                                                                                                                                                                                                                                                                                                                                                                                                                                                                                                                                                                                                                                                                                                                                                                                                                                                                                                                                                                                                                                                                                                                                                                                                                                                                                                                                                       text  \n",
       "0  statements about the results of our investigation and the Special Counsel's charging decisions, and we then provide an overview of the two volumes of our report. The report describes actions and events that the Special Counsel's Office found to be supp01ted by the evidence collected in our investigation. In some instances, the report points out the absence of evidence or conflicts in the evidence about a particular fact or event. In other instances, when substantial, credible evidence enabled the Office to reach a conclusion with confidence, the report states that the investigation established that certain actions or events occurred. A statement that the investigation did not establish particular facts does not mean there was no evidence of those facts. In evaluating whether evidence about collective action of multiple individuals constituted a crime, we applied the framework of conspiracy law, not the concept of \"collusion.\" In so doing, the Office recognized that the word \"collud[ e ]\" was used in communications with the Acting Attorney General confirming certain aspects of the investigation's scope and that the term has frequently been invoked in public reporting about the investigation. But collusion is not a specific offense or theory of liability found in the United States Code, nor is it a term of art in federal criminal law. For those reasons, the Office's focus in analyzing questions of joint criminal liability was on conspiracy as defined in federal law. In connection with that analysis, we addressed the factual question whether members of the Trump Campaign \"coordinat[ ed]\"-a term that appears in the appointment order-with Russian election interference activities. Like collusion, \"coordination\" does not have a settled definition in federal criminal law. We understood coordination to require an agreement-tacit or express-between the Trump Campaign and the Russian government on election interference. That requires more than the two parties taking actions that were informed by or responsive to the other's actions or interests. We applied the term coordination in that sense when stating in the report that the investigation did not establish that the Trump Campaign coordinated with the Russian government in its election interference activities. * * *                                                                                                                                                                                                                                                                                                                                                                                                                                                                                                                                                                                                                                                                                                                                                                                                                                                                                                                                                                                                                                                                                                                                                                                                  \n",
       "1  .m., the President called McGahn on McGahn' s personal cell phone and they spoke for about l 5 minutes.564 McGahn did not have a clear memory of the call but thought they might have discussed the stories reporting that the President was under investigation.565 Beginning early the next day, June 15, 2017, the President issued a series of tweets acknowledging the existence of the obstruction investigation and criticizing it. He wrote: \"They made up a phony collusion with the Russians story, found zero proof, so now they go for obstruction of justice on the phony story. Nice\";566 \"You are witnessing the single greatest WITCH HUNT in American political history-led by some very bad and conflicted people!\";567 and \"Crooked H destroyed phones w/ hammer, 'bleached' emails, & had husband meet w/AG days 560 Special Counsel's Office Attorney 6/15/17 Notes. 561 Devlin Barrett et al., Special counsel is investigating Trump for possible obstruction of justice, officials say, Washington Post (June 14, 2017). 562 CNN, for example, began running a chyron at 6:55 p.m. that stated: \"WASH POST: MUELLER INVESTIGATING TRUMP FOR OBSTRUCTION OF JUSTICE.\" CNN, (June 14, 2017, published online at 7: 15 p.m. ET). 563 Devlin Barrett et al., Special counsel is investigating Trump for possible obstruction of justice, officials say, Washington Post (June 14, 2017). 564 SCR026_000183 (President's Daily Diary, 6/14/17) (reflecting call from the President to McGahn on 6/14/17 with start time 10:31 p.m. and end time 10:46 p.m.); Call Records of Don McGahn. 565 McGahn 2/28/ 19 302, at 1-2. McGahn thought he and the President also probably talked about the investiture ceremony for Supreme Court Justice Neil Gorsuch, which was scheduled for the following day. McGahn 2/28/18 302, at 2. 566 @rea!DonaldTrump 6/15/ l 7 (6:55 a.m. ET) Tweet. 567 @realDonaldTrump 6/15/17 (7:57 a.m. ET) Tweet. 84                                                                                                                                                                                                                                                                                                                                                                                                                                                                                                                                                                                                                                                                                                                                                                                                                                                                                                                                                                                                                                                                                                                                                                                                                                                                                                                                                                                                                                                                                                                                                                                                                              \n",
       "2  U.S. Department of Justice A:t:1:erttey Werk Predttet // Mtt;s CetttttiH Mttterittl Preteeted Uttder Fed. R. Crim. P. 6(e) (1897) (\"An agreement between two or more persons to defraud a person of his rights by the forms of law, or to obtain an object forbidden by law.\"). For that reason, this Office's focus in resolving the question of joint criminal liability was on conspiracy as defined in federal law, not the commonly discussed term \"collusion.\" The Office considered in particular whether contacts between Trump Campaign officials and Russia-linked individuals could trigger liability for the crime of conspiracy-either under statutes that have their own conspiracy language (e.g., 18 U.S.C. §§ 1349, 195l(a)), or under the general conspiracy statute (18 U.S.C. § 371). The investigation did not establish that the contacts described in Volume I, Section IV, supra, amounted to an agreement to commit any substantive violation of federal criminal law-including foreign-fnfluence and campaign-finance laws, both of which are discussed further below. The Office therefore did not charge any individual associated with the Trump Campaign with conspiracy to commit a federal offense arising from Russia contacts, either under a specific statute or under Section 371 's offenses clause. The Office also did not charge any campaign official or associate with a conspiracy under Section 371 's defraud clause. That clause criminalizes participating in an agreement to obstruct a lawful function                                                                                                                                                                                                                                                                                                                                                                                                                                                                                                                                                                                                                                                                                                                                                                                                                                                                                                                                                                                                                                                                                                                                                                                                                                                                                                                                                                                                                                                                                                                                                                                                                                                                                                                                                                                                                                                                                                                                                                                                                                   \n",
       "3  U.S. Department of Justice Attemey Werk Predttct // May Cefl:taifl: Material Prntcctcd Ufl:der Fed. R. Crim. P. 6(e) before she was cleared-& they talk about obstruction?\"568 The next day, June 16, 2017, the President wrote additional tweets criticizing the investigation: \"After 7 months of investigations & committee hearings about my 'collusion with the Russians,' nobody has been able to show any proof. Sad!\";569 and \"I am being investigated for firing the FBI Director by the man who told me to fire the FBI Director! Witch Hunt.\"570 On Saturday, June 17, 2017, the President called McGahn and directed him to have the Special Counsel removed.571 McGahn was at home and the President was at Camp David.572 In interviews with this Office, McGahn recalled that the President called him at home twice and on both occasions directed him to call Rosenstein and say that Mueller had conflicts that precluded him from serving as Special Counsel.573 On the first call, McGahn recalled that the President said something like, \"You gotta do this. You gotta call Rod.\"574 McGahn said he told the President that he would see what he could do.575 McGahn was perturbed by the call and did not intend to act on the request.576 He and other advisors believed the asserted conflicts were \"silly\" and \"not real,\" and they had previously communicated that view to the President.577 McGahn also had made clear to the President that the White House Counsel's Office should not be involved in any effort to press the issue of conflicts.578 McGahn was concerned about having any role in asking the Acting Attorney General to fire the Special Counsel because he had grown up in the Reagan era and wanted to be more like Judge 568 @realDonaldTrump 6/15/17 (3:56 p.m. ET) Tweet. 569 @rea!DonaldTrump 6/16/17 (7:53 a.m. ET) Tweet. 570 @realDonaldTrump 6/16/17 (9:07 a.m. ET) Tweet. 571 McGahn 3/8/18 302, at 1-2; McGahn 12/14/17 302, at 10. 572 McGahn 3/8/18 302, at I, 3; SCR026_000196 (President's Daily Diary, 6/17/17) (records showing President departed the White House at 11 :07 a.m. on June 17, 2017, and arrived at Camp David at 11 :37 a.m.). 573 McGahn 3/8/ l 8 302, at 1-2; McGahn 12/14/ 17 302, at I 0. Phone records show that the President called McGahn in the afternoon on June 17, 2017, and they spoke for approximately 23 minutes. SCR026_000196 (President's Daily Diary, 6/17/17) (reflecting call from the President to McGahn on 6/17/17 with start time 2:23 p.m. and end time 2:46 p.m.); (Call Records of Don McGahn). Phone records do not show another call between McGahn and the President that day. Although McGahn recalled receiving multiple calls from the President on the same day, in light of the phone records he thought it was possible that the first call instead occurred on June 14, 2                                                                                                                                                                                                                                                                                                                                                                                                                                                                                                                                                                                                                                                                                        \n",
       "4  U.S. Department of Justice At:tort1ey Work Proattet II May Cot1tait1 Material Proteetea Ut1aer Fee. R. Crim. P. 6(e) Press reports following Corney's March 20 testimony suggested that the FBI was investigating the President, contrary to what Corney had told the President at the end of the January 6, 2017 intelligence assessment briefing.321 McGahn, Donaldson, and senior advisor Stephen Miller recalled that the President was upset with Corney's testimony and the press coverage that followed because of the suggestion that the President was under investigation.322 Notes from the White House Counsel's Office dated March 21, 2017, indicate that the President was \"beside himself' over Corney's testimony.323 The President called McGahn repeatedly that day to ask him to intervene with the Department of Justice, and, according to the notes, the President was \"getting hotter and hotter, get rid?\"324 Officials in the White House Counsel's Office became so concerned that the President would fire Corney that they began drafting a memorandum that examined whether the President needed cause to terminate the FBI director.325 At the President's urging, McGahn contacted Boente several times on March 21, 2017, to seek Boente's assistance in having Corney or the Department of Justice correct the misperception that the President was under investigation.326 Boente did not specifically recall the conversations, although he did remember one conversation with McGahn around this time where McGahn asked if there was a way to speed up or end the Russia investigation as quickly as possible.327 Boente said McGahn told him the President was under a cloud and it made it hard for him to govern.328 Boente recalled telling McGahn that there was no good way to shorten the investigation and attempting to do so could erode confidence in the investigation's conclusions.329 Boente said McGahn agreed and dropped the issue.330 The President also sought to speak with Boente directly, but McGahn told the President that Boente did not want to talk to the President about the request 321 E.g., Matt Apuzzo et al., F.B.I. ls Investigating Trump's Russia Ties, Corney Confirms, New York Times (Mar. 20, 20 I 7); Andy Greenberg. The FBI Has Been Investigating Trump's Russia Ties Since July, Wired (Mar. 20, 2017); Julie Borger & Spencer Ackerman, Trump-Russia collusion is being investigated by FBI, Corney confirms, Guardian (Mar. 20, 2017); see Corney 1/6/17 Memorandum, at 2. 322 Donaldson 11/6/17 302, at 16-17; S. Miller I 0/31/17 302, at 4; McGahn 12/12/17 302, at 5-7. 323 SC_AD_00213 (Donaldson 3/21/17 Notes). The notes from that day also indicate that the President referred to the \"Corney bombshell\" which \"made [him] look like a fool.\" SC_AD_00206 (Donaldson 3/21/17 Notes). 324 SC_AD_00210 (Donaldson 3/21/17 Notes). 325 SCR0l6_000002-05 (White House Counsel's Office Memorandum). White House Counsel's Office attorney Uttam Dhillon did not recall a triggering event causing the White House Counsel's Office to begin this research. Dhmon I 1/21/17 302, at 5. Metadata from the document, which was provided by the White House, establishes that it was created on March 21, 2017. 326 Donaldson 11/6/17 302, at 16-21; McGahn 12/12/17 302, at 5-7. 327 Boente 1/31/18 302, at 5. 328 Boente 1/31 /I 8 302, at 5. 329 Boente 1/31/18 302, at 5. 330 Boente 1/31/18 302, at 5. 54                                                                                  \n",
       "5  U.S. Department of Justice Ai:tarttey Wark P1Łaettet // Mtty Catttttitt Material Pwteetee Utteer Fee. R. Crim. P. e(e) tweeted, \"The Russian Witch Hunt Hoax continues, all because Jeff Sessions didn't tell me he was going to recuse himself. ... I would have quickly picked someone else. So much time and money wasted, so many lives ruined ... and Sessions knew better than most that there was No Collusion!\"769 On August 1, 2018, the President tweeted that '\"Attorney General Jeff Sessions should stop this Rigged Witch Hunt right now.\"770 On August 23, 2018, the President publicly criticized Sessions in a press interview and suggested that prosecutions at the Department of Justice were politically motivated because Paul Manafo11 had been prosecuted but Democrats had not.771 The President said, \"I put in an Attorney General that never took control of the Justice Department, JeffSessions.\"772 That day, Sessions issued a press statement that said, \"I took control of the Department of Justice the day I was sworn in .... While I am Attorney General, the actions of the Department of Justice will not be improperly influenced by political considerations.\"773 The next day, the President tweeted a response: '\"Department of Justice will not be improperly influenced by political considerations.' Jeff, this is GREAT, what everyone wants, so look into all of the corruption on the 'other side' including deleted Emails, Corney lies & leaks, Mueller conflicts, McCabe, Strzok, Page, Ohr, FISA abuse, Christopher Steele & his phony and corrupt Dossier, the Clinton Foundation, illegal surveillance of Trump campaign, Russian collusion by Dems -and so much more. Open up the papers & documents without redaction? Come on Jeff, you can do it, the country is waiting!\"774 On November 7, 2018, the day after the midterm elections, the President replaced Sessions with Sessions's chief of staff as Acting Attorney General.775 Analysis In analyzing the President's efforts to have Sessions unrecuse himself and regain control of the Russia investigation, the following considerations and evidence are relevant to the elements of obstruction of justice: a. Obstructive act. To determine if the President's effo11s to have the Attorney General unrecuse could qualify as an obstructive act, it would be necessary to assess evidence on whether those actions would naturally impede the Russia investigation. That inquiry would take into account the supervisory role that the Attorney General, if unrecused, would play in the Russia investigation. It also would have to take into account that the Attorney General's recusal covered (\"Jeff Sessions should be ashamed of himself for allowing this total HOAX to get started in the first place!\"). 769 @realDonaldTrump 6/5/18 (7:31 a.m. ET) Tweet. 770 @realDonaldTrump 8/1 /18 (9:24 a.m. ET) Tweet. 771 Fox & Friends Interview of President Trump, Fox News (Aug. 23, 2018). 772 Fox & Friends Interview of President Trump, Fox News (Aug. 23, 2018). 773 Sessions 8/23/18 Press Statement. 774 @real Donald Trump 8/24/18 (6: 17 a.m. ET) Tweet;@ realDonaldTrump 8/24/18 (6:28 a.m. ET) Tweet. 775 @realDonaldTrump 11/7/18 (2:44 p.m. ET) Tweet. I 11                                                                                                                                                                                                                                                                                  \n",
       "6  U.S. Department of Justice Attenatey Werk Preattet // May CeAte:iA Material Pt'eteetea UAaer Fea. R. Criffi. P. 6(e) after being sworn in.495 Late in the morning of May 12, 2017, the President tweeted, \"Again, the story that there was collusion between the Russians & Trump campaign was fabricated by Dems as an excuse for losing the election.\"496 The President also tweeted, \"James Corney better hope that there are no 'tapes' of our conversations before he starts leaking to the press!\" and \"When James Clapper himself, and virtually everyone else with knowledge of the witch hunt, says there is no collusion, when does it end?\"497 Analysis In analyzing the President's decision to fire Corney, the following evidence is relevant to the elements of obstruction of justice: a. Obstructive act. The act of firing Corney removed the individual overseeing the FBI's Russia investigation. The President knew that Corney was personally involved in the investigation based on Corney's briefing of the Gang of Eight, Corney's March 20, 2017 public testimony about the investigation, and the President's one-on-one conversations with Corney. Firing Corney would qualify as an obstructive act if it had the natural and probable effect of interfering with or impeding the investigation-for example, if the termination would have the effect of delaying or disrupting the investigation or providing the President with the opportunity to appoint a director who would take a different approach to the investigation that the President perceived as more protective of his personal interests. Relevant circumstances bearing on that issue include whether the President's actions had the potential to discourage a successor director or other law enforcement officials in their conduct of the Russia investigation. The President fired Corney abruptly without offering him an opportunity to resign, banned him from the FBI building, and criticized him publicly, calling him a \"showboat\" and claiming that the FBI was \"in turmoil\" under his leadership. And the President followed the termination with public statements that were highly critical of the investigation; for example, three days after firing Corney, the President referred to the investigation as a \"witch hunt\" and asked, \"when does it end?\" Those actions had the potential to affect a successor director's conduct of the investigation. The anticipated effect of removing the FBI director, however, would not necessarily be to prevent or impede the FBI from continuing its investigation. As a general matter, FBI investigations run under the operational direction of FBI personnel levels below the FBI director. Bannon made a similar point when he told the President that he could fire the FBI director, but could not fire the FBI. The White House issued a press statement the day after Corney was fired that said, \"The investigation would have always continued, and obviously, the termination of Corney would not have ended it.\" Tn addition, in his May 11 interview with Lester Holt, the President stated that he understood when he made the decision to fire Corney that the action might prolong the investigation. And the President chose McCabe to serve as interim director, e                                                                                                                                                                                                                                       \n",
       "7  U.S. Department of Justice Atterney Werk Predttet // May CeHtain Material Preteeted Under Fee. R:. Criffl. P. 6(e) C. Russian Government Outreach and Contacts As explained in Section IV above, the Office's investigation uncovered evidence of numerous links (i.e., contacts) between Trump Campaign officials and individuals having or claiming to have ties to the Russian government. The Office evaluated the contacts under several sets of federal laws, including conspiracy laws and statutes governing foreign agents who operate in the United States. After considering the available evidence, the Office did not pursue charges under these statutes against any of the individuals discussed in Section IV above-with the exception of FARA charges against Paul Manafort and Richard Gates based on their activities on behalf of Ukraine. One of the interactions between the Trump Campaign and Russian-affiliated the June 9, 2016 meeting between high-ranking campaign officials and Russians promising derogatory information on Hillary Clinton-implicates an additional body of law: campaignfinance statutes. Schemes involving the solicitation or receipt of assistance from foreign sources raise difficult statutory and constitutional questions. As ex lained below, the Office evaluated those questions in connection with the June 9 meeting The Office ultimately concluded that, even if the principal legal questions were resolved favorably to the government, a prosecution would encounter difficulties proving that Campaign officials or individuals connected to the Campaign willfully violated the law. Finally, although the evidence of contacts between Campaign officials and Russiaaffiliated individuals may not have been sufficient to establish or sustain criminal charges, several U.S. persons connected to the Campaign made false statements about those contacts and took other steps to obstruct the Office's investigation and those of Congress. This Office has therefore charged some of those individuals with making false statements and obstructing justice. 1. Potential Coordination: Conspiracy and Collusion As an initial matter, this Office evaluated potentially criminal conduct that involved the collective action of multiple individuals not under the rubric of \"collusion,\" but through the lens of conspiracy law. In so doing, the Office recognized that the word \"collud[ e ]\" appears in the Acting Attorney General's August 2, 2017 memorandum; it has frequently been invoked in public reporting; and it is sometimes referenced in antitrust law, see, e.g., Brooke Group v. Brown & Williamson Tobacco Corp., 509 U.S. 209, 227 (1993). But collusion is not a specific offense or theory of liability found in the U.S. Code; nor is it a term of art in federal criminal law. To the contrary, even as defined in legal dictionaries, collusion is largely synonymous with conspiracy as that crime is set forth in the general federal conspiracy statute, 18 U.S.C. § 371. See Black's Law Dictionary 321 (10th ed. 2014) (collusion is \"[a]n agreement to defraud another or to do or obtain something forbidden by law\"); 1 Alexander Burrill, A Law Dictionary and Glossary 311 (1871) (\"An agreement between two or more persons to defraud another by the forms of law, or to employ such forms as means of accomplishing some unlawful object.\"); 1 Bouvier's Law Dictionary 352 180                                                                                        \n",
       "8  U.S. Department of Justice AlterHe:,· Werle Predttet // May CeHtaiH Material Preteeted Ut1der Fed. R. Crim.. P. 6(e) investigation itself.353 Rogers later testified in a congressional hearing that as NSA Director he had \"never been directed to do anything [he] believe[d] to be illegal, immoral, unethical or inappropriate\" and did \"not recall ever feeling pressured to do so.\"354 In addition to the specific comments made to Coats, Pompeo, and Rogers, the President spoke on other occasions in the presence of intelligence community officials about the Russia investigation and stated that it interfered with his ability to conduct foreign relations.355 On at least two occasions, the President began Presidential Daily Briefings by stating that there was no collusion with Russia and he hoped a press statement to that effect could be issued.356 Pompeo recalled that the President vented about the investigation on multiple occasions, complaining that there was no evidence against him and that nobody would publicly defend him.357 Rogers recalled a private conversation with the President in which he \"vent[ ed]\" about the investigation, said he had done nothing wrong, and said something like the \"Russia thing has got to go away.\"358 Coats recalled the President bringing up the Russia investigation several times, and Coats said he finally told the President that Coats's job was to_ provide intelligence and not get involved in investigations. 359 4. The President Asks Corney to \"Lift the Cloud\" Created by the Russia Investigation On the morning of March 30, 2017, the President reached out to Corney directly about the Russia investigation.360 According to Corney's contemporaneous record of the conversation, the President said \"he was trying to run the country and the cloud of this Russia business was making 353 Rogers 6/12/17 302, at 5; Ledgett 6/13/17 302, at 2. 354 Hearing on Foreign Intelligence Surveillance Act Before the Senate Select Intelligence Committee, 115th Cong. (June 7, 2017) (CQ Cong. Transcripts, at 20) (testimony by Admiral Michael Rogers, Director of the National Security Agency). 355 Gistaro 6/14/17 302, at I, 3; Pompeo 6/28/17 302, at 2-3. 356 Gistaro 6/ 14/ l 7 302, at I. 357 Pompeo 6/28/17 302, at 2. 358 Rogers 6/12/17 302, at 6. 359 Coats 6/14/17 302, at 3-4. 360 SCRO l 2b_000044 (President's Daily Diary, 3/30/17, reflecting call to Corney from 8: 14 -8:24 a.m.); Corney 3/30/17 Memorandum, at 1 (\"The President called me on my CMS phone at 8: 13 am today . . . . The call lasted I I                                                                                                                                                                                                                                                                                                                                                                                                                                                                                                                                                                                                                                                                                                                                                                                                                                                                                                                                                       \n",
       "9  U.S. Department of Justice Attorf!e::,· '.Vork Proe1:1et // May Cof!taifl Material Proteetee Urtt:ler Fet:I. R. Crim. P. 6(e) here. Doesn't mean that anybody should rely on it. ... Big signal is, nobody has been pardoned yet. ,,s61 On July 31, 2018, Manafort's criminal trial began in the Eastern District of Virginia, generating substantial news coverage.862 The next day, the President tweeted, \"This is a terrible situation and Attorney General Jeff Sessions should stop this Rigged Witch Hunt right now, before it continues to stain our country any further. Bob Mueller is totally conflicted, and his 17 Angry Democrats that are doing his dirty work are a disgrace to USA!\"863 Minutes later, the President tweeted, \"Paul Manafort worked for Ronald Reagan, Bob Dole and many other highly prominent and respected political leaders. He worked for me for a very short time. Why didn't government tell me that he was under investigation. These old charges have nothing to do with Collusion-a Hoax!\"864 Later in the day, the President tweeted, \"Looking back on history, who was treated worse, Alfonse Capone, legendary mob boss, killer and 'Public Enemy Number One,' or Paul Manafort, political operative & Reagan/Dole darling, now serving solitary confinement-although convicted of nothing? Where is the Russian Collusion?\"865 The President's tweets about the Manafort trial were widely covered by the press.866 When asked about the President's tweets, Sanders told the press, \"Certainly, the President's been clear. He thinks Paul Manafort's been treated unfairly.\"867 On August 16, 2018, the Manafort case was submitted to the jury and deliberations began. At that time, Giuliani had recently suggested to reporters that the Special Counsel investigation needed to be \"done in the next two or three weeks,\"868 and media stories reported that a Manafort acquittal would add to criticism that the Special Counsel investigation was not worth the time and expense, whereas a conviction could show that ending the investigation would be premature.869 861 State of the Union with Jake Tapper Transcript, CNN (June 17, 2018). 862 See, e.g., Katelyn Polantz, Takeaways from day one of the Paul Manafort trial, CNN (July 31, 2018); Frank Bruni, Paul Manafort 's Trial Is Donald Trump's, Too, New York Times Opinion (July 31, 2018); Rachel Weiner et al., Paul Manafort trial Day 2: Witnesses describe extravagant clothing purchases, home remodels, lavish cars paid with wire transfers, Washington Post (Aug. 1, 2018). 863 @realDonaldTrump 8/1/18 (9:24 a.m. ET) Tweet. Later that day, when Sanders was asked about the President's tweet, she told reporters, \"It's not an order. It's the President's opinion.\" Sarah Sanders, White House Daily Briefing, C-SPAN (Aug. 1, 2018). 864 @realDonaldTrump 8/1/18 (9:34 a.m. ET) Tweet. 865 @realDonaldTrump 8/1/18 (11 :35 a.m. ET) Tweet. 866 See, e.g., Carol D. Leonnig et al., Trump calls Manafort prosecution \"a hoax,\" says Sessions should stop Mueller investigation \"right now\", Washington Post (Aug. 1, 2018); Louis Nelson, Trump claims Manafort case has \"nothing to do with collusion\", Politico (Aug. I. 2018). 867 Sarah Sanders, White House Daily Briefing, C-SPAN (Aug. 1, 2018). 868 Chris Strohm & Shannon Pettypiece, Mueller Probe Doesn't Need to Shut Down Before Midterms, Officials Say, Bloomberg (Aug. 15, 2018). 869 See, e.g., Katelyn Polantz et al., Manafort jury ends first day of deliberations without a v  "
      ]
     },
     "execution_count": 220,
     "metadata": {},
     "output_type": "execute_result"
    }
   ],
   "source": [
    "showMoreLikeThis('collusion')"
   ]
  },
  {
   "cell_type": "code",
   "execution_count": 236,
   "metadata": {},
   "outputs": [
    {
     "data": {
      "text/html": [
       "<div>\n",
       "<style scoped>\n",
       "    .dataframe tbody tr th:only-of-type {\n",
       "        vertical-align: middle;\n",
       "    }\n",
       "\n",
       "    .dataframe tbody tr th {\n",
       "        vertical-align: top;\n",
       "    }\n",
       "\n",
       "    .dataframe thead th {\n",
       "        text-align: right;\n",
       "    }\n",
       "</style>\n",
       "<table border=\"1\" class=\"dataframe\">\n",
       "  <thead>\n",
       "    <tr style=\"text-align: right;\">\n",
       "      <th></th>\n",
       "      <th>0</th>\n",
       "    </tr>\n",
       "  </thead>\n",
       "  <tbody>\n",
       "    <tr>\n",
       "      <th>Russia</th>\n",
       "      <td>0.028861</td>\n",
       "    </tr>\n",
       "    <tr>\n",
       "      <th>Cohen</th>\n",
       "      <td>0.021626</td>\n",
       "    </tr>\n",
       "    <tr>\n",
       "      <th>Corney</th>\n",
       "      <td>0.021351</td>\n",
       "    </tr>\n",
       "    <tr>\n",
       "      <th>Flynn</th>\n",
       "      <td>0.019705</td>\n",
       "    </tr>\n",
       "    <tr>\n",
       "      <th>United States</th>\n",
       "      <td>0.011874</td>\n",
       "    </tr>\n",
       "    <tr>\n",
       "      <th>McGahn</th>\n",
       "      <td>0.010744</td>\n",
       "    </tr>\n",
       "    <tr>\n",
       "      <th>Papadopoulos</th>\n",
       "      <td>0.010675</td>\n",
       "    </tr>\n",
       "    <tr>\n",
       "      <th>emails</th>\n",
       "      <td>0.009447</td>\n",
       "    </tr>\n",
       "    <tr>\n",
       "      <th>Manafort</th>\n",
       "      <td>0.009304</td>\n",
       "    </tr>\n",
       "    <tr>\n",
       "      <th>email</th>\n",
       "      <td>0.008997</td>\n",
       "    </tr>\n",
       "    <tr>\n",
       "      <th>Clinton</th>\n",
       "      <td>0.008509</td>\n",
       "    </tr>\n",
       "    <tr>\n",
       "      <th>Trump</th>\n",
       "      <td>0.008283</td>\n",
       "    </tr>\n",
       "    <tr>\n",
       "      <th>Kushner</th>\n",
       "      <td>0.007472</td>\n",
       "    </tr>\n",
       "    <tr>\n",
       "      <th>Hicks</th>\n",
       "      <td>0.005296</td>\n",
       "    </tr>\n",
       "    <tr>\n",
       "      <th>Page</th>\n",
       "      <td>0.005272</td>\n",
       "    </tr>\n",
       "    <tr>\n",
       "      <th>the United States</th>\n",
       "      <td>0.005113</td>\n",
       "    </tr>\n",
       "    <tr>\n",
       "      <th>Dmitriev</th>\n",
       "      <td>0.004647</td>\n",
       "    </tr>\n",
       "    <tr>\n",
       "      <th>Moscow</th>\n",
       "      <td>0.004394</td>\n",
       "    </tr>\n",
       "    <tr>\n",
       "      <th>Ukraine</th>\n",
       "      <td>0.004253</td>\n",
       "    </tr>\n",
       "    <tr>\n",
       "      <th>Putin</th>\n",
       "      <td>0.004236</td>\n",
       "    </tr>\n",
       "    <tr>\n",
       "      <th>Lewandowski</th>\n",
       "      <td>0.003910</td>\n",
       "    </tr>\n",
       "    <tr>\n",
       "      <th>Paul Manafort</th>\n",
       "      <td>0.003610</td>\n",
       "    </tr>\n",
       "    <tr>\n",
       "      <th>Gordon</th>\n",
       "      <td>0.003571</td>\n",
       "    </tr>\n",
       "    <tr>\n",
       "      <th>Bannon</th>\n",
       "      <td>0.003478</td>\n",
       "    </tr>\n",
       "    <tr>\n",
       "      <th>Nader</th>\n",
       "      <td>0.003453</td>\n",
       "    </tr>\n",
       "    <tr>\n",
       "      <th>Michael Cohen</th>\n",
       "      <td>0.003309</td>\n",
       "    </tr>\n",
       "    <tr>\n",
       "      <th>McFarland</th>\n",
       "      <td>0.002995</td>\n",
       "    </tr>\n",
       "    <tr>\n",
       "      <th>par_206</th>\n",
       "      <td>0.002828</td>\n",
       "    </tr>\n",
       "    <tr>\n",
       "      <th>Porter</th>\n",
       "      <td>0.002802</td>\n",
       "    </tr>\n",
       "    <tr>\n",
       "      <th>Simes</th>\n",
       "      <td>0.002585</td>\n",
       "    </tr>\n",
       "    <tr>\n",
       "      <th>...</th>\n",
       "      <td>...</td>\n",
       "    </tr>\n",
       "    <tr>\n",
       "      <th>Syria</th>\n",
       "      <td>0.000205</td>\n",
       "    </tr>\n",
       "    <tr>\n",
       "      <th>Bedminster</th>\n",
       "      <td>0.000205</td>\n",
       "    </tr>\n",
       "    <tr>\n",
       "      <th>Papadopoulos 9/20/17 302</th>\n",
       "      <td>0.000204</td>\n",
       "    </tr>\n",
       "    <tr>\n",
       "      <th>par_58</th>\n",
       "      <td>0.000204</td>\n",
       "    </tr>\n",
       "    <tr>\n",
       "      <th>Kellyanne Conway</th>\n",
       "      <td>0.000204</td>\n",
       "    </tr>\n",
       "    <tr>\n",
       "      <th>Medvedev</th>\n",
       "      <td>0.000204</td>\n",
       "    </tr>\n",
       "    <tr>\n",
       "      <th>F]lynn</th>\n",
       "      <td>0.000203</td>\n",
       "    </tr>\n",
       "    <tr>\n",
       "      <th>McFarland 2/26/</th>\n",
       "      <td>0.000202</td>\n",
       "    </tr>\n",
       "    <tr>\n",
       "      <th>Kasbo</th>\n",
       "      <td>0.000201</td>\n",
       "    </tr>\n",
       "    <tr>\n",
       "      <th>Cohen Microsoft</th>\n",
       "      <td>0.000201</td>\n",
       "    </tr>\n",
       "    <tr>\n",
       "      <th>Elena Poliakova</th>\n",
       "      <td>0.000201</td>\n",
       "    </tr>\n",
       "    <tr>\n",
       "      <th>UK</th>\n",
       "      <td>0.000200</td>\n",
       "    </tr>\n",
       "    <tr>\n",
       "      <th>par_25</th>\n",
       "      <td>0.000200</td>\n",
       "    </tr>\n",
       "    <tr>\n",
       "      <th>Papadopoulos Statement</th>\n",
       "      <td>0.000199</td>\n",
       "    </tr>\n",
       "    <tr>\n",
       "      <th>CeHtaiH</th>\n",
       "      <td>0.000199</td>\n",
       "    </tr>\n",
       "    <tr>\n",
       "      <th>Nader 1</th>\n",
       "      <td>0.000199</td>\n",
       "    </tr>\n",
       "    <tr>\n",
       "      <th>Mey</th>\n",
       "      <td>0.000199</td>\n",
       "    </tr>\n",
       "    <tr>\n",
       "      <th>par_580</th>\n",
       "      <td>0.000198</td>\n",
       "    </tr>\n",
       "    <tr>\n",
       "      <th>par_421</th>\n",
       "      <td>0.000187</td>\n",
       "    </tr>\n",
       "    <tr>\n",
       "      <th>par_387</th>\n",
       "      <td>0.000185</td>\n",
       "    </tr>\n",
       "    <tr>\n",
       "      <th>par_556</th>\n",
       "      <td>0.000183</td>\n",
       "    </tr>\n",
       "    <tr>\n",
       "      <th>par_242</th>\n",
       "      <td>0.000179</td>\n",
       "    </tr>\n",
       "    <tr>\n",
       "      <th>par_77</th>\n",
       "      <td>0.000171</td>\n",
       "    </tr>\n",
       "    <tr>\n",
       "      <th>par_127</th>\n",
       "      <td>0.000169</td>\n",
       "    </tr>\n",
       "    <tr>\n",
       "      <th>par_559</th>\n",
       "      <td>0.000167</td>\n",
       "    </tr>\n",
       "    <tr>\n",
       "      <th>par_598</th>\n",
       "      <td>0.000165</td>\n",
       "    </tr>\n",
       "    <tr>\n",
       "      <th>par_477</th>\n",
       "      <td>0.000165</td>\n",
       "    </tr>\n",
       "    <tr>\n",
       "      <th>par_232</th>\n",
       "      <td>0.000164</td>\n",
       "    </tr>\n",
       "    <tr>\n",
       "      <th>par_678</th>\n",
       "      <td>0.000160</td>\n",
       "    </tr>\n",
       "    <tr>\n",
       "      <th>par_802</th>\n",
       "      <td>0.000126</td>\n",
       "    </tr>\n",
       "  </tbody>\n",
       "</table>\n",
       "<p>1191 rows × 1 columns</p>\n",
       "</div>"
      ],
      "text/plain": [
       "                                 0\n",
       "Russia                    0.028861\n",
       "Cohen                     0.021626\n",
       "Corney                    0.021351\n",
       "Flynn                     0.019705\n",
       "United States             0.011874\n",
       "McGahn                    0.010744\n",
       "Papadopoulos              0.010675\n",
       "emails                    0.009447\n",
       "Manafort                  0.009304\n",
       "email                     0.008997\n",
       "Clinton                   0.008509\n",
       "Trump                     0.008283\n",
       "Kushner                   0.007472\n",
       "Hicks                     0.005296\n",
       "Page                      0.005272\n",
       "the United States         0.005113\n",
       "Dmitriev                  0.004647\n",
       "Moscow                    0.004394\n",
       "Ukraine                   0.004253\n",
       "Putin                     0.004236\n",
       "Lewandowski               0.003910\n",
       "Paul Manafort             0.003610\n",
       "Gordon                    0.003571\n",
       "Bannon                    0.003478\n",
       "Nader                     0.003453\n",
       "Michael Cohen             0.003309\n",
       "McFarland                 0.002995\n",
       "par_206                   0.002828\n",
       "Porter                    0.002802\n",
       "Simes                     0.002585\n",
       "...                            ...\n",
       "Syria                     0.000205\n",
       "Bedminster                0.000205\n",
       "Papadopoulos 9/20/17 302  0.000204\n",
       "par_58                    0.000204\n",
       "Kellyanne Conway          0.000204\n",
       "Medvedev                  0.000204\n",
       "F]lynn                    0.000203\n",
       "McFarland 2/26/           0.000202\n",
       "Kasbo                     0.000201\n",
       "Cohen Microsoft           0.000201\n",
       "Elena Poliakova           0.000201\n",
       "UK                        0.000200\n",
       "par_25                    0.000200\n",
       "Papadopoulos Statement    0.000199\n",
       "CeHtaiH                   0.000199\n",
       "Nader 1                   0.000199\n",
       "Mey                       0.000199\n",
       "par_580                   0.000198\n",
       "par_421                   0.000187\n",
       "par_387                   0.000185\n",
       "par_556                   0.000183\n",
       "par_242                   0.000179\n",
       "par_77                    0.000171\n",
       "par_127                   0.000169\n",
       "par_559                   0.000167\n",
       "par_598                   0.000165\n",
       "par_477                   0.000165\n",
       "par_232                   0.000164\n",
       "par_678                   0.000160\n",
       "par_802                   0.000126\n",
       "\n",
       "[1191 rows x 1 columns]"
      ]
     },
     "execution_count": 236,
     "metadata": {},
     "output_type": "execute_result"
    }
   ],
   "source": [
    "pd.DataFrame([networkx.algorithms.pagerank(G)]).T.sort_values(0,ascending = False)"
   ]
  },
  {
   "cell_type": "code",
   "execution_count": null,
   "metadata": {},
   "outputs": [],
   "source": []
  }
 ],
 "metadata": {
  "kernelspec": {
   "display_name": "Python 3",
   "language": "python",
   "name": "python3"
  },
  "language_info": {
   "codemirror_mode": {
    "name": "ipython",
    "version": 3
   },
   "file_extension": ".py",
   "mimetype": "text/x-python",
   "name": "python",
   "nbconvert_exporter": "python",
   "pygments_lexer": "ipython3",
   "version": "3.6.5"
  }
 },
 "nbformat": 4,
 "nbformat_minor": 2
}
